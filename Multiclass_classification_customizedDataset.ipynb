{
  "nbformat": 4,
  "nbformat_minor": 0,
  "metadata": {
    "colab": {
      "provenance": [],
      "authorship_tag": "ABX9TyNee0kQLk8u6CYpZ2U9qdlE",
      "include_colab_link": true
    },
    "kernelspec": {
      "name": "python3",
      "display_name": "Python 3"
    },
    "language_info": {
      "name": "python"
    }
  },
  "cells": [
    {
      "cell_type": "markdown",
      "metadata": {
        "id": "view-in-github",
        "colab_type": "text"
      },
      "source": [
        "<a href=\"https://colab.research.google.com/github/Nemit-jindal/ML_Models_LinearRegression/blob/main/Multiclass_classification_customizedDataset.ipynb\" target=\"_parent\"><img src=\"https://colab.research.google.com/assets/colab-badge.svg\" alt=\"Open In Colab\"/></a>"
      ]
    },
    {
      "cell_type": "code",
      "execution_count": null,
      "metadata": {
        "id": "fXsGH_h1FEMp"
      },
      "outputs": [],
      "source": [
        "import warnings\n",
        "warnings.filterwarnings('ignore')\n",
        "\n",
        "\n",
        "from sklearn.datasets import make_classification\n",
        "from sklearn.linear_model import LogisticRegression\n",
        "X, y = make_classification(n_samples = 1000, n_features=10, n_redundant =5, n_informative=5, n_classes=3, random_state=1)"
      ]
    },
    {
      "cell_type": "code",
      "source": [
        "y"
      ],
      "metadata": {
        "colab": {
          "base_uri": "https://localhost:8080/"
        },
        "id": "blc6En5nFYMx",
        "outputId": "596c37c8-4bd9-491e-d67c-9c4abf5cdae3"
      },
      "execution_count": null,
      "outputs": [
        {
          "output_type": "execute_result",
          "data": {
            "text/plain": [
              "array([1, 0, 1, 2, 0, 2, 2, 2, 0, 0, 1, 0, 2, 2, 0, 1, 1, 0, 1, 0, 2, 0,\n",
              "       2, 2, 0, 0, 2, 0, 1, 1, 2, 1, 0, 2, 0, 0, 0, 1, 2, 2, 2, 1, 0, 1,\n",
              "       1, 1, 0, 0, 1, 1, 1, 1, 2, 1, 1, 2, 2, 2, 1, 0, 2, 2, 2, 1, 2, 1,\n",
              "       1, 0, 0, 0, 2, 1, 1, 0, 0, 0, 0, 0, 2, 1, 2, 0, 2, 0, 1, 2, 2, 2,\n",
              "       0, 1, 0, 2, 1, 0, 2, 1, 1, 2, 0, 1, 0, 0, 1, 1, 1, 0, 2, 2, 2, 2,\n",
              "       1, 2, 0, 2, 0, 0, 0, 0, 0, 1, 2, 2, 1, 2, 2, 2, 2, 2, 1, 0, 0, 1,\n",
              "       0, 0, 2, 2, 0, 0, 1, 1, 1, 1, 0, 2, 0, 1, 2, 0, 2, 1, 2, 0, 0, 1,\n",
              "       0, 0, 2, 2, 2, 2, 2, 1, 2, 0, 1, 2, 2, 0, 2, 1, 0, 0, 0, 0, 0, 0,\n",
              "       2, 0, 2, 1, 2, 0, 0, 0, 0, 0, 0, 1, 1, 0, 1, 2, 1, 0, 2, 1, 1, 0,\n",
              "       1, 1, 1, 1, 2, 1, 0, 2, 2, 1, 2, 1, 1, 2, 0, 0, 0, 2, 2, 2, 0, 2,\n",
              "       0, 1, 1, 2, 1, 1, 1, 1, 2, 1, 0, 1, 1, 2, 1, 1, 1, 1, 2, 0, 2, 2,\n",
              "       1, 1, 0, 1, 0, 0, 1, 1, 2, 2, 2, 2, 1, 2, 1, 1, 0, 1, 1, 1, 1, 2,\n",
              "       1, 2, 1, 2, 0, 0, 0, 2, 1, 1, 0, 0, 1, 2, 2, 0, 1, 0, 0, 1, 1, 1,\n",
              "       1, 2, 1, 2, 2, 2, 1, 0, 0, 1, 0, 0, 2, 1, 1, 0, 2, 2, 0, 2, 0, 2,\n",
              "       1, 0, 2, 2, 1, 1, 2, 1, 2, 2, 2, 0, 1, 0, 1, 2, 1, 0, 2, 2, 0, 1,\n",
              "       2, 1, 2, 1, 1, 2, 0, 1, 0, 0, 1, 2, 2, 1, 2, 2, 2, 0, 1, 1, 0, 1,\n",
              "       2, 0, 2, 0, 0, 0, 1, 2, 1, 0, 0, 0, 1, 0, 0, 1, 1, 1, 0, 2, 0, 0,\n",
              "       1, 0, 1, 1, 1, 2, 1, 2, 0, 2, 1, 2, 0, 1, 1, 1, 1, 0, 0, 0, 1, 2,\n",
              "       2, 1, 0, 2, 2, 1, 0, 1, 1, 0, 1, 2, 0, 0, 2, 1, 0, 2, 0, 0, 1, 2,\n",
              "       0, 2, 2, 0, 2, 2, 2, 0, 2, 2, 0, 2, 1, 0, 0, 1, 1, 2, 1, 2, 1, 0,\n",
              "       0, 1, 2, 1, 2, 1, 0, 1, 0, 1, 0, 0, 0, 2, 1, 0, 0, 1, 2, 1, 0, 0,\n",
              "       0, 0, 0, 1, 0, 0, 1, 2, 1, 1, 1, 0, 1, 1, 2, 2, 0, 1, 2, 2, 0, 2,\n",
              "       2, 0, 1, 0, 2, 2, 1, 1, 2, 2, 2, 0, 2, 2, 0, 0, 1, 0, 1, 1, 1, 1,\n",
              "       0, 1, 0, 1, 1, 1, 2, 2, 1, 2, 2, 2, 2, 2, 0, 1, 0, 0, 0, 1, 1, 1,\n",
              "       2, 1, 1, 2, 0, 0, 0, 1, 2, 1, 0, 0, 0, 0, 0, 0, 1, 1, 1, 2, 0, 1,\n",
              "       0, 1, 2, 2, 2, 1, 1, 1, 1, 0, 0, 2, 0, 2, 0, 2, 1, 0, 2, 0, 1, 1,\n",
              "       0, 1, 2, 0, 1, 1, 1, 2, 2, 2, 2, 0, 1, 0, 0, 2, 0, 2, 2, 2, 2, 0,\n",
              "       0, 2, 0, 0, 2, 1, 1, 0, 1, 2, 0, 0, 0, 0, 0, 1, 2, 2, 1, 1, 1, 1,\n",
              "       1, 1, 2, 2, 2, 0, 1, 1, 0, 1, 2, 1, 1, 0, 2, 2, 0, 2, 1, 0, 0, 2,\n",
              "       2, 2, 0, 2, 1, 0, 0, 0, 2, 1, 0, 1, 1, 0, 2, 0, 2, 2, 0, 2, 1, 2,\n",
              "       2, 2, 2, 0, 1, 2, 2, 2, 0, 1, 2, 2, 0, 1, 0, 0, 0, 2, 1, 0, 0, 1,\n",
              "       1, 0, 1, 0, 2, 0, 2, 1, 1, 2, 1, 0, 1, 2, 1, 2, 2, 2, 2, 1, 0, 2,\n",
              "       2, 2, 0, 0, 1, 0, 0, 2, 1, 0, 1, 2, 0, 0, 1, 0, 1, 1, 1, 2, 2, 1,\n",
              "       2, 1, 1, 0, 2, 1, 0, 1, 1, 2, 1, 1, 1, 0, 2, 0, 2, 0, 0, 1, 0, 0,\n",
              "       0, 0, 0, 1, 2, 0, 0, 2, 0, 1, 0, 0, 2, 0, 1, 1, 0, 0, 0, 2, 2, 0,\n",
              "       2, 0, 0, 2, 2, 1, 0, 1, 1, 2, 0, 0, 0, 0, 2, 1, 1, 1, 1, 1, 2, 0,\n",
              "       0, 0, 0, 0, 0, 2, 2, 0, 0, 0, 0, 2, 0, 2, 0, 1, 2, 2, 0, 2, 0, 1,\n",
              "       1, 0, 2, 1, 2, 1, 2, 1, 2, 1, 1, 2, 0, 2, 2, 0, 1, 2, 1, 2, 1, 2,\n",
              "       0, 1, 2, 1, 1, 0, 0, 0, 2, 2, 1, 1, 2, 2, 2, 2, 0, 1, 2, 0, 2, 2,\n",
              "       1, 2, 1, 2, 2, 2, 1, 0, 0, 0, 0, 0, 0, 0, 1, 2, 2, 2, 2, 2, 1, 0,\n",
              "       2, 0, 2, 2, 1, 1, 0, 2, 1, 0, 0, 1, 1, 2, 1, 2, 2, 2, 0, 0, 2, 1,\n",
              "       2, 0, 0, 1, 1, 0, 1, 1, 1, 0, 2, 0, 0, 1, 2, 2, 1, 2, 2, 2, 2, 1,\n",
              "       2, 0, 0, 0, 1, 2, 0, 1, 1, 1, 2, 1, 0, 1, 1, 0, 2, 2, 0, 2, 2, 1,\n",
              "       2, 2, 1, 2, 2, 2, 1, 2, 2, 0, 0, 1, 1, 0, 0, 2, 1, 0, 0, 2, 1, 1,\n",
              "       1, 2, 2, 0, 2, 1, 1, 2, 1, 1, 1, 2, 0, 2, 1, 2, 0, 1, 0, 2, 0, 2,\n",
              "       1, 1, 2, 1, 2, 2, 1, 0, 2, 1])"
            ]
          },
          "metadata": {},
          "execution_count": 2
        }
      ]
    },
    {
      "cell_type": "code",
      "source": [
        "X"
      ],
      "metadata": {
        "colab": {
          "base_uri": "https://localhost:8080/"
        },
        "id": "ERryCHbyFYPe",
        "outputId": "d0b3d000-d93e-4d02-858f-cd49b9380e4b"
      },
      "execution_count": null,
      "outputs": [
        {
          "output_type": "execute_result",
          "data": {
            "text/plain": [
              "array([[ 1.89149379, -0.39847585,  1.63856893, ...,  0.58810926,\n",
              "        -0.02542177, -0.52835426],\n",
              "       [ 1.86913773, -0.56336215,  2.03411807, ..., -0.55633   ,\n",
              "        -0.27340013,  0.72129251],\n",
              "       [ 1.95259701, -2.83144572,  0.19055535, ..., -0.60957741,\n",
              "        -2.07750191, -1.75469982],\n",
              "       ...,\n",
              "       [ 1.98033054,  1.37228804,  1.67376262, ...,  2.75687956,\n",
              "        -0.20719842,  0.39299534],\n",
              "       [-1.54305631, -0.27530218,  0.38744703, ...,  0.72769107,\n",
              "         0.51983329, -1.92306657],\n",
              "       [ 1.17970389, -3.3812155 , -0.1498426 , ...,  1.24640268,\n",
              "        -4.00356845, -3.01027048]])"
            ]
          },
          "metadata": {},
          "execution_count": 3
        }
      ]
    },
    {
      "cell_type": "code",
      "source": [
        "#ovr\n",
        "model = LogisticRegression(multi_class='ovr', solver = 'lbfgs')"
      ],
      "metadata": {
        "id": "mqxyGoQ3FYSE"
      },
      "execution_count": null,
      "outputs": []
    },
    {
      "cell_type": "code",
      "source": [
        "from sklearn.model_selection import train_test_split\n",
        "X_train, X_test, y_train, y_test = train_test_split(X, y, test_size = 0.30, random_state=1)"
      ],
      "metadata": {
        "id": "CmEJPlqfFYUq"
      },
      "execution_count": null,
      "outputs": []
    },
    {
      "cell_type": "code",
      "source": [
        "X_train.shape, X_test.shape"
      ],
      "metadata": {
        "colab": {
          "base_uri": "https://localhost:8080/"
        },
        "id": "GOBWEtAEFYXi",
        "outputId": "6858d12e-f1aa-40f3-f3ac-1bfb1e7a2c2d"
      },
      "execution_count": null,
      "outputs": [
        {
          "output_type": "execute_result",
          "data": {
            "text/plain": [
              "((700, 10), (300, 10))"
            ]
          },
          "metadata": {},
          "execution_count": 6
        }
      ]
    },
    {
      "cell_type": "code",
      "source": [
        "model"
      ],
      "metadata": {
        "colab": {
          "base_uri": "https://localhost:8080/",
          "height": 74
        },
        "id": "jzMTa9LfFYaD",
        "outputId": "853adf24-1ca0-4a1c-b249-9b4704c898c3"
      },
      "execution_count": null,
      "outputs": [
        {
          "output_type": "execute_result",
          "data": {
            "text/plain": [
              "LogisticRegression(multi_class='ovr')"
            ],
            "text/html": [
              "<style>#sk-container-id-1 {color: black;}#sk-container-id-1 pre{padding: 0;}#sk-container-id-1 div.sk-toggleable {background-color: white;}#sk-container-id-1 label.sk-toggleable__label {cursor: pointer;display: block;width: 100%;margin-bottom: 0;padding: 0.3em;box-sizing: border-box;text-align: center;}#sk-container-id-1 label.sk-toggleable__label-arrow:before {content: \"▸\";float: left;margin-right: 0.25em;color: #696969;}#sk-container-id-1 label.sk-toggleable__label-arrow:hover:before {color: black;}#sk-container-id-1 div.sk-estimator:hover label.sk-toggleable__label-arrow:before {color: black;}#sk-container-id-1 div.sk-toggleable__content {max-height: 0;max-width: 0;overflow: hidden;text-align: left;background-color: #f0f8ff;}#sk-container-id-1 div.sk-toggleable__content pre {margin: 0.2em;color: black;border-radius: 0.25em;background-color: #f0f8ff;}#sk-container-id-1 input.sk-toggleable__control:checked~div.sk-toggleable__content {max-height: 200px;max-width: 100%;overflow: auto;}#sk-container-id-1 input.sk-toggleable__control:checked~label.sk-toggleable__label-arrow:before {content: \"▾\";}#sk-container-id-1 div.sk-estimator input.sk-toggleable__control:checked~label.sk-toggleable__label {background-color: #d4ebff;}#sk-container-id-1 div.sk-label input.sk-toggleable__control:checked~label.sk-toggleable__label {background-color: #d4ebff;}#sk-container-id-1 input.sk-hidden--visually {border: 0;clip: rect(1px 1px 1px 1px);clip: rect(1px, 1px, 1px, 1px);height: 1px;margin: -1px;overflow: hidden;padding: 0;position: absolute;width: 1px;}#sk-container-id-1 div.sk-estimator {font-family: monospace;background-color: #f0f8ff;border: 1px dotted black;border-radius: 0.25em;box-sizing: border-box;margin-bottom: 0.5em;}#sk-container-id-1 div.sk-estimator:hover {background-color: #d4ebff;}#sk-container-id-1 div.sk-parallel-item::after {content: \"\";width: 100%;border-bottom: 1px solid gray;flex-grow: 1;}#sk-container-id-1 div.sk-label:hover label.sk-toggleable__label {background-color: #d4ebff;}#sk-container-id-1 div.sk-serial::before {content: \"\";position: absolute;border-left: 1px solid gray;box-sizing: border-box;top: 0;bottom: 0;left: 50%;z-index: 0;}#sk-container-id-1 div.sk-serial {display: flex;flex-direction: column;align-items: center;background-color: white;padding-right: 0.2em;padding-left: 0.2em;position: relative;}#sk-container-id-1 div.sk-item {position: relative;z-index: 1;}#sk-container-id-1 div.sk-parallel {display: flex;align-items: stretch;justify-content: center;background-color: white;position: relative;}#sk-container-id-1 div.sk-item::before, #sk-container-id-1 div.sk-parallel-item::before {content: \"\";position: absolute;border-left: 1px solid gray;box-sizing: border-box;top: 0;bottom: 0;left: 50%;z-index: -1;}#sk-container-id-1 div.sk-parallel-item {display: flex;flex-direction: column;z-index: 1;position: relative;background-color: white;}#sk-container-id-1 div.sk-parallel-item:first-child::after {align-self: flex-end;width: 50%;}#sk-container-id-1 div.sk-parallel-item:last-child::after {align-self: flex-start;width: 50%;}#sk-container-id-1 div.sk-parallel-item:only-child::after {width: 0;}#sk-container-id-1 div.sk-dashed-wrapped {border: 1px dashed gray;margin: 0 0.4em 0.5em 0.4em;box-sizing: border-box;padding-bottom: 0.4em;background-color: white;}#sk-container-id-1 div.sk-label label {font-family: monospace;font-weight: bold;display: inline-block;line-height: 1.2em;}#sk-container-id-1 div.sk-label-container {text-align: center;}#sk-container-id-1 div.sk-container {/* jupyter's `normalize.less` sets `[hidden] { display: none; }` but bootstrap.min.css set `[hidden] { display: none !important; }` so we also need the `!important` here to be able to override the default hidden behavior on the sphinx rendered scikit-learn.org. See: https://github.com/scikit-learn/scikit-learn/issues/21755 */display: inline-block !important;position: relative;}#sk-container-id-1 div.sk-text-repr-fallback {display: none;}</style><div id=\"sk-container-id-1\" class=\"sk-top-container\"><div class=\"sk-text-repr-fallback\"><pre>LogisticRegression(multi_class=&#x27;ovr&#x27;)</pre><b>In a Jupyter environment, please rerun this cell to show the HTML representation or trust the notebook. <br />On GitHub, the HTML representation is unable to render, please try loading this page with nbviewer.org.</b></div><div class=\"sk-container\" hidden><div class=\"sk-item\"><div class=\"sk-estimator sk-toggleable\"><input class=\"sk-toggleable__control sk-hidden--visually\" id=\"sk-estimator-id-1\" type=\"checkbox\" checked><label for=\"sk-estimator-id-1\" class=\"sk-toggleable__label sk-toggleable__label-arrow\">LogisticRegression</label><div class=\"sk-toggleable__content\"><pre>LogisticRegression(multi_class=&#x27;ovr&#x27;)</pre></div></div></div></div></div>"
            ]
          },
          "metadata": {},
          "execution_count": 7
        }
      ]
    },
    {
      "cell_type": "code",
      "source": [
        "model.fit(X_train, y_train)"
      ],
      "metadata": {
        "colab": {
          "base_uri": "https://localhost:8080/",
          "height": 74
        },
        "id": "D86BdFUZFYdB",
        "outputId": "475031b0-ad0c-43d8-e638-d16f055bf300"
      },
      "execution_count": null,
      "outputs": [
        {
          "output_type": "execute_result",
          "data": {
            "text/plain": [
              "LogisticRegression(multi_class='ovr')"
            ],
            "text/html": [
              "<style>#sk-container-id-2 {color: black;}#sk-container-id-2 pre{padding: 0;}#sk-container-id-2 div.sk-toggleable {background-color: white;}#sk-container-id-2 label.sk-toggleable__label {cursor: pointer;display: block;width: 100%;margin-bottom: 0;padding: 0.3em;box-sizing: border-box;text-align: center;}#sk-container-id-2 label.sk-toggleable__label-arrow:before {content: \"▸\";float: left;margin-right: 0.25em;color: #696969;}#sk-container-id-2 label.sk-toggleable__label-arrow:hover:before {color: black;}#sk-container-id-2 div.sk-estimator:hover label.sk-toggleable__label-arrow:before {color: black;}#sk-container-id-2 div.sk-toggleable__content {max-height: 0;max-width: 0;overflow: hidden;text-align: left;background-color: #f0f8ff;}#sk-container-id-2 div.sk-toggleable__content pre {margin: 0.2em;color: black;border-radius: 0.25em;background-color: #f0f8ff;}#sk-container-id-2 input.sk-toggleable__control:checked~div.sk-toggleable__content {max-height: 200px;max-width: 100%;overflow: auto;}#sk-container-id-2 input.sk-toggleable__control:checked~label.sk-toggleable__label-arrow:before {content: \"▾\";}#sk-container-id-2 div.sk-estimator input.sk-toggleable__control:checked~label.sk-toggleable__label {background-color: #d4ebff;}#sk-container-id-2 div.sk-label input.sk-toggleable__control:checked~label.sk-toggleable__label {background-color: #d4ebff;}#sk-container-id-2 input.sk-hidden--visually {border: 0;clip: rect(1px 1px 1px 1px);clip: rect(1px, 1px, 1px, 1px);height: 1px;margin: -1px;overflow: hidden;padding: 0;position: absolute;width: 1px;}#sk-container-id-2 div.sk-estimator {font-family: monospace;background-color: #f0f8ff;border: 1px dotted black;border-radius: 0.25em;box-sizing: border-box;margin-bottom: 0.5em;}#sk-container-id-2 div.sk-estimator:hover {background-color: #d4ebff;}#sk-container-id-2 div.sk-parallel-item::after {content: \"\";width: 100%;border-bottom: 1px solid gray;flex-grow: 1;}#sk-container-id-2 div.sk-label:hover label.sk-toggleable__label {background-color: #d4ebff;}#sk-container-id-2 div.sk-serial::before {content: \"\";position: absolute;border-left: 1px solid gray;box-sizing: border-box;top: 0;bottom: 0;left: 50%;z-index: 0;}#sk-container-id-2 div.sk-serial {display: flex;flex-direction: column;align-items: center;background-color: white;padding-right: 0.2em;padding-left: 0.2em;position: relative;}#sk-container-id-2 div.sk-item {position: relative;z-index: 1;}#sk-container-id-2 div.sk-parallel {display: flex;align-items: stretch;justify-content: center;background-color: white;position: relative;}#sk-container-id-2 div.sk-item::before, #sk-container-id-2 div.sk-parallel-item::before {content: \"\";position: absolute;border-left: 1px solid gray;box-sizing: border-box;top: 0;bottom: 0;left: 50%;z-index: -1;}#sk-container-id-2 div.sk-parallel-item {display: flex;flex-direction: column;z-index: 1;position: relative;background-color: white;}#sk-container-id-2 div.sk-parallel-item:first-child::after {align-self: flex-end;width: 50%;}#sk-container-id-2 div.sk-parallel-item:last-child::after {align-self: flex-start;width: 50%;}#sk-container-id-2 div.sk-parallel-item:only-child::after {width: 0;}#sk-container-id-2 div.sk-dashed-wrapped {border: 1px dashed gray;margin: 0 0.4em 0.5em 0.4em;box-sizing: border-box;padding-bottom: 0.4em;background-color: white;}#sk-container-id-2 div.sk-label label {font-family: monospace;font-weight: bold;display: inline-block;line-height: 1.2em;}#sk-container-id-2 div.sk-label-container {text-align: center;}#sk-container-id-2 div.sk-container {/* jupyter's `normalize.less` sets `[hidden] { display: none; }` but bootstrap.min.css set `[hidden] { display: none !important; }` so we also need the `!important` here to be able to override the default hidden behavior on the sphinx rendered scikit-learn.org. See: https://github.com/scikit-learn/scikit-learn/issues/21755 */display: inline-block !important;position: relative;}#sk-container-id-2 div.sk-text-repr-fallback {display: none;}</style><div id=\"sk-container-id-2\" class=\"sk-top-container\"><div class=\"sk-text-repr-fallback\"><pre>LogisticRegression(multi_class=&#x27;ovr&#x27;)</pre><b>In a Jupyter environment, please rerun this cell to show the HTML representation or trust the notebook. <br />On GitHub, the HTML representation is unable to render, please try loading this page with nbviewer.org.</b></div><div class=\"sk-container\" hidden><div class=\"sk-item\"><div class=\"sk-estimator sk-toggleable\"><input class=\"sk-toggleable__control sk-hidden--visually\" id=\"sk-estimator-id-2\" type=\"checkbox\" checked><label for=\"sk-estimator-id-2\" class=\"sk-toggleable__label sk-toggleable__label-arrow\">LogisticRegression</label><div class=\"sk-toggleable__content\"><pre>LogisticRegression(multi_class=&#x27;ovr&#x27;)</pre></div></div></div></div></div>"
            ]
          },
          "metadata": {},
          "execution_count": 8
        }
      ]
    },
    {
      "cell_type": "code",
      "source": [
        "y_pred = model.predict(X_test)"
      ],
      "metadata": {
        "id": "EDwT6pakFYfw"
      },
      "execution_count": null,
      "outputs": []
    },
    {
      "cell_type": "code",
      "source": [
        "y_pred"
      ],
      "metadata": {
        "colab": {
          "base_uri": "https://localhost:8080/"
        },
        "id": "2hG2L0BfFYib",
        "outputId": "c0670825-ea38-473b-8849-507e58839045"
      },
      "execution_count": null,
      "outputs": [
        {
          "output_type": "execute_result",
          "data": {
            "text/plain": [
              "array([1, 2, 0, 2, 2, 0, 1, 1, 2, 2, 0, 0, 0, 2, 0, 0, 0, 1, 1, 2, 0, 0,\n",
              "       2, 1, 2, 2, 2, 1, 2, 1, 1, 1, 0, 1, 1, 0, 0, 0, 0, 1, 2, 2, 0, 1,\n",
              "       0, 1, 1, 1, 2, 2, 0, 0, 0, 0, 0, 1, 1, 0, 1, 1, 2, 2, 2, 1, 2, 0,\n",
              "       0, 2, 0, 0, 0, 0, 2, 1, 1, 1, 2, 0, 0, 2, 2, 1, 0, 1, 2, 2, 0, 1,\n",
              "       1, 1, 2, 0, 2, 0, 0, 2, 1, 0, 0, 0, 2, 1, 1, 2, 0, 2, 2, 1, 1, 1,\n",
              "       1, 1, 2, 0, 0, 1, 2, 1, 2, 0, 0, 2, 2, 0, 2, 0, 1, 0, 2, 1, 1, 2,\n",
              "       1, 1, 1, 2, 0, 2, 1, 0, 1, 0, 1, 1, 0, 2, 2, 2, 1, 2, 0, 2, 0, 2,\n",
              "       1, 2, 2, 0, 2, 2, 0, 0, 2, 2, 2, 0, 0, 0, 2, 1, 1, 0, 1, 1, 2, 0,\n",
              "       0, 2, 2, 1, 2, 0, 0, 0, 0, 0, 1, 2, 2, 0, 1, 0, 2, 2, 1, 1, 2, 1,\n",
              "       0, 1, 2, 1, 1, 0, 1, 0, 0, 0, 1, 2, 0, 0, 2, 0, 1, 0, 0, 0, 1, 2,\n",
              "       1, 2, 0, 1, 0, 0, 2, 1, 1, 1, 1, 2, 2, 2, 2, 2, 2, 0, 1, 2, 1, 2,\n",
              "       0, 1, 0, 1, 1, 0, 0, 0, 2, 2, 0, 1, 1, 1, 1, 2, 2, 1, 2, 2, 0, 2,\n",
              "       0, 2, 2, 0, 0, 0, 0, 2, 2, 2, 2, 0, 0, 0, 0, 0, 1, 2, 0, 0, 1, 2,\n",
              "       1, 1, 0, 1, 0, 0, 1, 2, 0, 1, 0, 2, 2, 1])"
            ]
          },
          "metadata": {},
          "execution_count": 10
        }
      ]
    },
    {
      "cell_type": "code",
      "source": [
        "model.predict_proba(X_test)"
      ],
      "metadata": {
        "colab": {
          "base_uri": "https://localhost:8080/"
        },
        "id": "745UhzDLFYk-",
        "outputId": "6aa6a37a-e89c-4d50-da11-f030a0e42fbb"
      },
      "execution_count": null,
      "outputs": [
        {
          "output_type": "execute_result",
          "data": {
            "text/plain": [
              "array([[3.01134533e-01, 6.09546134e-01, 8.93193330e-02],\n",
              "       [3.39334892e-01, 1.16976666e-01, 5.43688442e-01],\n",
              "       [4.73043475e-01, 2.41199042e-01, 2.85757484e-01],\n",
              "       [3.95761811e-01, 1.23539747e-01, 4.80698442e-01],\n",
              "       [4.47687196e-02, 3.54106596e-01, 6.01124685e-01],\n",
              "       [8.59042975e-01, 9.25798899e-02, 4.83771355e-02],\n",
              "       [1.38039513e-01, 7.46771361e-01, 1.15189126e-01],\n",
              "       [2.51146263e-01, 4.60317328e-01, 2.88536409e-01],\n",
              "       [7.20834507e-02, 8.60603346e-02, 8.41856215e-01],\n",
              "       [2.83443972e-02, 1.61251807e-01, 8.10403796e-01],\n",
              "       [5.02092198e-01, 3.78738018e-01, 1.19169783e-01],\n",
              "       [6.45454748e-01, 6.07650217e-02, 2.93780230e-01],\n",
              "       [4.86276520e-01, 1.26398692e-01, 3.87324788e-01],\n",
              "       [2.39699240e-02, 2.35972315e-01, 7.40057761e-01],\n",
              "       [5.03476585e-01, 1.46825595e-01, 3.49697820e-01],\n",
              "       [6.20615783e-01, 1.90308647e-02, 3.60353352e-01],\n",
              "       [4.99392243e-01, 4.92325752e-01, 8.28200498e-03],\n",
              "       [2.92419258e-03, 6.28940503e-01, 3.68135305e-01],\n",
              "       [4.76428453e-02, 8.84753731e-01, 6.76034240e-02],\n",
              "       [7.31325659e-02, 4.31824498e-01, 4.95042936e-01],\n",
              "       [6.93245475e-01, 1.27085217e-01, 1.79669308e-01],\n",
              "       [4.91061380e-01, 4.35753511e-01, 7.31851084e-02],\n",
              "       [4.35587930e-02, 5.04312973e-02, 9.06009910e-01],\n",
              "       [2.41048150e-01, 7.08677894e-01, 5.02739567e-02],\n",
              "       [4.14775830e-02, 2.20115029e-01, 7.38407388e-01],\n",
              "       [7.49873681e-02, 2.34224590e-01, 6.90788042e-01],\n",
              "       [3.68936920e-03, 4.14464661e-01, 5.81845970e-01],\n",
              "       [4.82804800e-01, 5.10515333e-01, 6.67986656e-03],\n",
              "       [7.18915431e-02, 4.13282662e-01, 5.14825795e-01],\n",
              "       [2.58164910e-01, 7.09482988e-01, 3.23521014e-02],\n",
              "       [3.42422669e-02, 8.36150866e-01, 1.29606867e-01],\n",
              "       [2.54035985e-01, 6.78337554e-01, 6.76264608e-02],\n",
              "       [6.12679874e-01, 2.64753869e-02, 3.60844739e-01],\n",
              "       [1.77285434e-04, 6.00958973e-01, 3.98863741e-01],\n",
              "       [3.19349378e-01, 6.46509759e-01, 3.41408626e-02],\n",
              "       [5.97434256e-01, 2.58704689e-01, 1.43861055e-01],\n",
              "       [6.60683914e-01, 8.31943732e-03, 3.30996649e-01],\n",
              "       [4.37167997e-01, 3.74687493e-01, 1.88144510e-01],\n",
              "       [6.12652279e-01, 1.01478763e-01, 2.85868959e-01],\n",
              "       [3.98258727e-01, 5.89325739e-01, 1.24155339e-02],\n",
              "       [1.58689660e-02, 4.19060077e-01, 5.65070957e-01],\n",
              "       [2.70915492e-01, 8.10633873e-02, 6.48021120e-01],\n",
              "       [4.78728283e-01, 7.68666555e-02, 4.44405061e-01],\n",
              "       [2.92215488e-01, 5.01992275e-01, 2.05792237e-01],\n",
              "       [6.73757410e-01, 8.05678805e-02, 2.45674710e-01],\n",
              "       [1.77389967e-01, 7.20681885e-01, 1.01928148e-01],\n",
              "       [2.33218877e-01, 5.74492891e-01, 1.92288232e-01],\n",
              "       [2.63544777e-01, 7.03766444e-01, 3.26887785e-02],\n",
              "       [1.61485562e-01, 1.03783451e-01, 7.34730987e-01],\n",
              "       [1.52994718e-01, 5.03033928e-02, 7.96701889e-01],\n",
              "       [5.81624922e-01, 1.09412140e-01, 3.08962938e-01],\n",
              "       [5.80173302e-01, 1.50925416e-03, 4.18317444e-01],\n",
              "       [6.11735431e-01, 1.62177435e-03, 3.86642795e-01],\n",
              "       [4.32601654e-01, 3.03353663e-01, 2.64044683e-01],\n",
              "       [8.40107324e-01, 8.11875301e-02, 7.87051462e-02],\n",
              "       [3.65848126e-01, 4.72197709e-01, 1.61954165e-01],\n",
              "       [3.52998038e-01, 5.58011147e-01, 8.89908150e-02],\n",
              "       [3.98479130e-01, 2.83927581e-01, 3.17593289e-01],\n",
              "       [2.22568357e-01, 5.15266600e-01, 2.62165043e-01],\n",
              "       [1.00137935e-01, 8.69812191e-01, 3.00498742e-02],\n",
              "       [2.96286124e-01, 1.37486943e-01, 5.66226934e-01],\n",
              "       [1.11778820e-01, 3.53000552e-01, 5.35220628e-01],\n",
              "       [8.91673024e-02, 8.23522134e-02, 8.28480484e-01],\n",
              "       [6.14213267e-02, 9.16471826e-01, 2.21068472e-02],\n",
              "       [3.06168816e-01, 5.93377245e-02, 6.34493459e-01],\n",
              "       [5.64713691e-01, 1.14034394e-01, 3.21251915e-01],\n",
              "       [3.60399726e-01, 3.47091094e-01, 2.92509180e-01],\n",
              "       [2.83190670e-01, 9.46390971e-02, 6.22170233e-01],\n",
              "       [7.82800235e-01, 7.28314775e-02, 1.44368287e-01],\n",
              "       [5.87643809e-01, 3.38692071e-02, 3.78486984e-01],\n",
              "       [4.33551606e-01, 1.61409214e-01, 4.05039180e-01],\n",
              "       [6.09413110e-01, 1.89184976e-02, 3.71668392e-01],\n",
              "       [5.04261727e-02, 3.14628042e-01, 6.34945785e-01],\n",
              "       [3.10673687e-01, 4.15808886e-01, 2.73517427e-01],\n",
              "       [8.54875377e-02, 8.70179310e-01, 4.43331525e-02],\n",
              "       [2.23504642e-01, 6.91573734e-01, 8.49216240e-02],\n",
              "       [2.79569297e-01, 1.34708694e-01, 5.85722009e-01],\n",
              "       [4.60527411e-01, 8.32696219e-02, 4.56202967e-01],\n",
              "       [4.93211016e-01, 4.74060553e-01, 3.27284314e-02],\n",
              "       [6.64889909e-03, 2.82103500e-01, 7.11247601e-01],\n",
              "       [3.37248684e-01, 4.57452350e-02, 6.17006081e-01],\n",
              "       [4.72575837e-04, 7.29647061e-01, 2.69880363e-01],\n",
              "       [4.13188442e-01, 3.86386274e-01, 2.00425285e-01],\n",
              "       [7.61016705e-02, 9.07549021e-01, 1.63493080e-02],\n",
              "       [1.31229103e-01, 2.62699739e-01, 6.06071157e-01],\n",
              "       [4.34558795e-02, 3.89642255e-01, 5.66901866e-01],\n",
              "       [3.76421664e-01, 2.65768891e-01, 3.57809444e-01],\n",
              "       [2.74834753e-01, 6.55770087e-01, 6.93951601e-02],\n",
              "       [3.11934459e-01, 6.53773972e-01, 3.42915687e-02],\n",
              "       [5.67324155e-03, 7.82655520e-01, 2.11671238e-01],\n",
              "       [1.18728152e-01, 2.93836200e-01, 5.87435648e-01],\n",
              "       [5.90641514e-01, 7.48231613e-02, 3.34535324e-01],\n",
              "       [1.59648151e-02, 2.89373209e-01, 6.94661976e-01],\n",
              "       [4.55568892e-01, 9.41813654e-02, 4.50249743e-01],\n",
              "       [4.32467052e-01, 3.37921850e-01, 2.29611098e-01],\n",
              "       [2.82171981e-02, 3.57621057e-01, 6.14161745e-01],\n",
              "       [3.01635580e-01, 5.16609707e-01, 1.81754713e-01],\n",
              "       [5.85697417e-01, 1.25290947e-01, 2.89011636e-01],\n",
              "       [5.24568675e-01, 2.12646605e-02, 4.54166665e-01],\n",
              "       [5.25544668e-01, 3.77358315e-02, 4.36719500e-01],\n",
              "       [9.68258475e-02, 3.43972032e-01, 5.59202121e-01],\n",
              "       [8.31525637e-02, 6.52060000e-01, 2.64787436e-01],\n",
              "       [1.01431810e-01, 7.87898889e-01, 1.10669300e-01],\n",
              "       [7.02777515e-02, 1.24126636e-01, 8.05595613e-01],\n",
              "       [6.34207586e-01, 2.03539653e-02, 3.45438449e-01],\n",
              "       [5.06680802e-02, 1.59321562e-01, 7.90010358e-01],\n",
              "       [3.07641894e-02, 1.98225418e-01, 7.71010393e-01],\n",
              "       [2.23507997e-01, 6.34611848e-01, 1.41880154e-01],\n",
              "       [1.10762513e-02, 8.94553814e-01, 9.43699343e-02],\n",
              "       [6.18132776e-03, 5.10851113e-01, 4.82967560e-01],\n",
              "       [3.27183529e-02, 8.97299202e-01, 6.99824455e-02],\n",
              "       [4.95088753e-02, 8.97933897e-01, 5.25572278e-02],\n",
              "       [4.62628698e-02, 2.19700932e-01, 7.34036198e-01],\n",
              "       [6.30960290e-01, 8.84188901e-02, 2.80620819e-01],\n",
              "       [7.71890651e-01, 5.19869090e-02, 1.76122440e-01],\n",
              "       [4.22403794e-01, 5.68597987e-01, 8.99821922e-03],\n",
              "       [3.35768681e-02, 1.78253060e-01, 7.88170072e-01],\n",
              "       [2.75539381e-01, 4.11958383e-01, 3.12502236e-01],\n",
              "       [3.09159818e-01, 1.40737467e-01, 5.50102715e-01],\n",
              "       [6.06699128e-01, 3.93087214e-02, 3.53992150e-01],\n",
              "       [5.83012231e-01, 2.55268762e-01, 1.61719007e-01],\n",
              "       [3.02413234e-02, 1.72977065e-01, 7.96781611e-01],\n",
              "       [1.11853138e-01, 1.88198507e-01, 6.99948355e-01],\n",
              "       [6.31530678e-01, 7.24025758e-03, 3.61229065e-01],\n",
              "       [3.79401724e-02, 2.14903860e-01, 7.47155968e-01],\n",
              "       [5.88990083e-01, 1.48476537e-01, 2.62533380e-01],\n",
              "       [1.08849632e-01, 8.53888051e-01, 3.72623172e-02],\n",
              "       [4.10641740e-01, 2.89310616e-01, 3.00047644e-01],\n",
              "       [1.92273388e-02, 3.99618498e-01, 5.81154163e-01],\n",
              "       [4.58664272e-01, 4.85280238e-01, 5.60554905e-02],\n",
              "       [4.30249678e-01, 5.04748102e-01, 6.50022206e-02],\n",
              "       [2.09735345e-01, 2.00794026e-01, 5.89470628e-01],\n",
              "       [8.99425514e-02, 4.64364633e-01, 4.45692816e-01],\n",
              "       [2.44906855e-01, 5.56682423e-01, 1.98410722e-01],\n",
              "       [1.74253805e-01, 7.07335408e-01, 1.18410787e-01],\n",
              "       [4.54941866e-02, 4.64403012e-01, 4.90102801e-01],\n",
              "       [5.89062341e-01, 1.57923652e-01, 2.53014007e-01],\n",
              "       [2.67467317e-01, 1.27115046e-01, 6.05417637e-01],\n",
              "       [3.54323024e-01, 6.30740379e-01, 1.49365969e-02],\n",
              "       [5.53678588e-01, 7.69805519e-02, 3.69340860e-01],\n",
              "       [2.22513336e-01, 6.43834618e-01, 1.33652046e-01],\n",
              "       [5.48378492e-01, 1.12988567e-02, 4.40322651e-01],\n",
              "       [6.84772048e-02, 8.56059781e-01, 7.54630139e-02],\n",
              "       [1.91079919e-01, 4.63979505e-01, 3.44940576e-01],\n",
              "       [7.38109334e-01, 3.92643683e-02, 2.22626298e-01],\n",
              "       [3.42440548e-02, 4.49818939e-01, 5.15937006e-01],\n",
              "       [8.69315378e-02, 1.40684864e-01, 7.72383598e-01],\n",
              "       [2.33383075e-01, 1.03186427e-01, 6.63430499e-01],\n",
              "       [2.31082107e-01, 6.18981703e-01, 1.49936190e-01],\n",
              "       [2.72979624e-01, 1.48585852e-02, 7.12161791e-01],\n",
              "       [6.56185760e-01, 9.79561148e-02, 2.45858125e-01],\n",
              "       [6.52944389e-03, 3.02485508e-01, 6.90985049e-01],\n",
              "       [4.80536011e-01, 1.82223542e-01, 3.37240447e-01],\n",
              "       [1.30056209e-01, 8.88333923e-02, 7.81110399e-01],\n",
              "       [6.52632031e-02, 6.51459290e-01, 2.83277507e-01],\n",
              "       [1.66488889e-01, 3.97406084e-01, 4.36105027e-01],\n",
              "       [4.36378381e-01, 9.79127236e-02, 4.65708895e-01],\n",
              "       [8.07811563e-01, 5.56728662e-02, 1.36515571e-01],\n",
              "       [2.04791399e-01, 3.64263387e-01, 4.30945214e-01],\n",
              "       [1.90604411e-01, 8.49225009e-02, 7.24473088e-01],\n",
              "       [5.67767379e-01, 2.01379745e-01, 2.30852876e-01],\n",
              "       [6.24787523e-01, 1.70056255e-01, 2.05156222e-01],\n",
              "       [3.22353145e-01, 3.56718316e-02, 6.41975024e-01],\n",
              "       [1.32569683e-02, 1.10054518e-01, 8.76688514e-01],\n",
              "       [9.52538061e-02, 1.03451549e-01, 8.01294645e-01],\n",
              "       [6.75384852e-01, 5.32952862e-02, 2.71319862e-01],\n",
              "       [5.08156162e-01, 1.06726903e-01, 3.85116935e-01],\n",
              "       [5.70031751e-01, 1.45665493e-01, 2.84302756e-01],\n",
              "       [6.12377147e-02, 3.27661590e-01, 6.11100695e-01],\n",
              "       [1.74912544e-01, 8.06149106e-01, 1.89383500e-02],\n",
              "       [7.49227651e-04, 6.96744475e-01, 3.02506297e-01],\n",
              "       [5.45257375e-01, 1.39635156e-01, 3.15107470e-01],\n",
              "       [3.27633694e-01, 6.25908918e-01, 4.64573888e-02],\n",
              "       [1.33503407e-01, 5.76637576e-01, 2.89859018e-01],\n",
              "       [1.03802583e-02, 4.64669456e-01, 5.24950286e-01],\n",
              "       [6.36560990e-01, 3.42266461e-01, 2.11725486e-02],\n",
              "       [3.65631304e-01, 3.02229594e-01, 3.32139102e-01],\n",
              "       [4.81348431e-02, 3.76061626e-01, 5.75803531e-01],\n",
              "       [1.91213416e-01, 2.25922105e-01, 5.82864478e-01],\n",
              "       [1.06998647e-01, 7.34392017e-01, 1.58609337e-01],\n",
              "       [2.57520054e-01, 1.84204791e-02, 7.24059467e-01],\n",
              "       [4.86105623e-01, 2.66039747e-01, 2.47854630e-01],\n",
              "       [6.75355406e-01, 1.26733132e-01, 1.97911462e-01],\n",
              "       [6.56027562e-01, 4.21401144e-02, 3.01832324e-01],\n",
              "       [6.55884100e-01, 2.06150047e-01, 1.37965853e-01],\n",
              "       [5.60742948e-01, 2.35149217e-01, 2.04107835e-01],\n",
              "       [2.40631359e-01, 6.63116265e-01, 9.62523762e-02],\n",
              "       [2.13814984e-01, 2.36118274e-01, 5.50066742e-01],\n",
              "       [4.58136529e-01, 5.94474408e-02, 4.82416031e-01],\n",
              "       [6.87264161e-01, 7.73372802e-02, 2.35398559e-01],\n",
              "       [2.09791146e-01, 5.07845574e-01, 2.82363279e-01],\n",
              "       [4.84042129e-01, 2.68694709e-01, 2.47263162e-01],\n",
              "       [3.59058192e-02, 4.57757631e-01, 5.06336550e-01],\n",
              "       [3.63522555e-01, 1.83685648e-01, 4.52791798e-01],\n",
              "       [3.57330798e-01, 3.76562407e-01, 2.66106794e-01],\n",
              "       [2.44984892e-01, 7.30985646e-01, 2.40294623e-02],\n",
              "       [7.36899189e-02, 2.90499426e-01, 6.35810655e-01],\n",
              "       [3.29843897e-01, 5.42847680e-01, 1.27308423e-01],\n",
              "       [4.56259670e-01, 3.42760275e-01, 2.00980055e-01],\n",
              "       [1.51391854e-01, 6.77702078e-01, 1.70906068e-01],\n",
              "       [3.67516075e-01, 1.68207278e-01, 4.64276647e-01],\n",
              "       [1.25037668e-02, 6.18242289e-01, 3.69253944e-01],\n",
              "       [2.09877853e-01, 7.40553295e-01, 4.95688514e-02],\n",
              "       [8.11017309e-01, 2.89266965e-02, 1.60055995e-01],\n",
              "       [8.50330521e-02, 6.45656644e-01, 2.69310304e-01],\n",
              "       [8.01503819e-01, 2.66957676e-02, 1.71800414e-01],\n",
              "       [7.57698763e-01, 1.46329106e-02, 2.27668327e-01],\n",
              "       [7.68804806e-01, 5.66391357e-02, 1.74556058e-01],\n",
              "       [1.19583721e-01, 8.26103869e-01, 5.43124099e-02],\n",
              "       [1.26194406e-02, 3.39149862e-01, 6.48230698e-01],\n",
              "       [5.22427929e-01, 1.08202173e-01, 3.69369898e-01],\n",
              "       [3.84282328e-01, 2.51240185e-01, 3.64477487e-01],\n",
              "       [1.45025676e-02, 2.24312981e-01, 7.61184452e-01],\n",
              "       [4.67877679e-01, 1.70101667e-01, 3.62020654e-01],\n",
              "       [1.15841658e-01, 6.45131112e-01, 2.39027230e-01],\n",
              "       [4.36479590e-01, 2.30513932e-01, 3.33006478e-01],\n",
              "       [6.04750400e-01, 3.44639286e-01, 5.06103139e-02],\n",
              "       [6.12227189e-01, 1.43042657e-01, 2.44730153e-01],\n",
              "       [1.58043449e-01, 8.09510861e-01, 3.24456902e-02],\n",
              "       [2.60714872e-01, 1.44364395e-02, 7.24848688e-01],\n",
              "       [3.24247633e-01, 4.12363720e-01, 2.63388647e-01],\n",
              "       [3.65679338e-02, 2.67190606e-01, 6.96241460e-01],\n",
              "       [6.40740336e-01, 6.70974587e-03, 3.52549918e-01],\n",
              "       [9.21926748e-02, 4.96144212e-01, 4.11663114e-01],\n",
              "       [5.96767964e-01, 9.07039687e-02, 3.12528067e-01],\n",
              "       [6.24689044e-01, 3.67553844e-02, 3.38555572e-01],\n",
              "       [1.70933991e-02, 3.89429786e-01, 5.93476815e-01],\n",
              "       [3.21409937e-01, 4.08641491e-01, 2.69948572e-01],\n",
              "       [2.94821787e-01, 4.29492542e-01, 2.75685670e-01],\n",
              "       [1.76138998e-01, 8.02271540e-01, 2.15894616e-02],\n",
              "       [1.09328090e-01, 8.54046795e-01, 3.66251157e-02],\n",
              "       [2.28551975e-01, 2.81707895e-01, 4.89740130e-01],\n",
              "       [1.52415267e-01, 2.55087351e-01, 5.92497382e-01],\n",
              "       [1.67620380e-02, 4.27939275e-01, 5.55298686e-01],\n",
              "       [4.20224356e-01, 1.32224321e-01, 4.47551324e-01],\n",
              "       [1.50929290e-01, 9.02006246e-02, 7.58870086e-01],\n",
              "       [3.42307293e-01, 3.08531750e-01, 3.49160958e-01],\n",
              "       [5.46920365e-01, 5.25079765e-02, 4.00571659e-01],\n",
              "       [2.63150184e-01, 6.96187983e-01, 4.06618331e-02],\n",
              "       [3.28407749e-01, 3.00194105e-01, 3.71398146e-01],\n",
              "       [1.70017117e-01, 5.86215579e-01, 2.43767303e-01],\n",
              "       [1.73219421e-02, 1.18020727e-01, 8.64657331e-01],\n",
              "       [6.29255540e-01, 2.18586878e-01, 1.52157582e-01],\n",
              "       [1.77810859e-02, 7.90183130e-01, 1.92035784e-01],\n",
              "       [4.26568418e-01, 3.16327911e-01, 2.57103671e-01],\n",
              "       [3.68713065e-02, 5.07477449e-01, 4.55651244e-01],\n",
              "       [3.51502818e-01, 4.56649686e-01, 1.91847496e-01],\n",
              "       [4.23640609e-01, 3.38012348e-01, 2.38347042e-01],\n",
              "       [5.47118303e-01, 2.37475625e-02, 4.29134134e-01],\n",
              "       [5.87150099e-01, 3.64807090e-01, 4.80428102e-02],\n",
              "       [2.81192548e-01, 7.46109385e-02, 6.44196514e-01],\n",
              "       [3.30971790e-01, 2.41254817e-01, 4.27773393e-01],\n",
              "       [4.63799544e-01, 1.24843295e-01, 4.11357162e-01],\n",
              "       [9.67604154e-02, 8.41296720e-01, 6.19428647e-02],\n",
              "       [2.94763286e-01, 6.70598274e-01, 3.46384400e-02],\n",
              "       [1.17467077e-02, 5.34673218e-01, 4.53580074e-01],\n",
              "       [5.59206185e-02, 9.15912351e-01, 2.81670306e-02],\n",
              "       [1.77341681e-01, 2.17957608e-01, 6.04700711e-01],\n",
              "       [2.12395636e-01, 1.14461547e-01, 6.73142817e-01],\n",
              "       [1.15590937e-02, 7.18590620e-01, 2.69850286e-01],\n",
              "       [3.65782174e-02, 8.30331181e-02, 8.80388664e-01],\n",
              "       [1.09028798e-01, 2.19440068e-01, 6.71531134e-01],\n",
              "       [4.98160643e-01, 3.63356605e-01, 1.38482752e-01],\n",
              "       [8.00472394e-02, 2.07188568e-01, 7.12764193e-01],\n",
              "       [7.87388268e-01, 9.42555763e-02, 1.18356156e-01],\n",
              "       [4.32254258e-01, 1.16664268e-02, 5.56079315e-01],\n",
              "       [4.63459712e-01, 2.30812614e-02, 5.13459027e-01],\n",
              "       [5.94022679e-01, 6.85076090e-02, 3.37469712e-01],\n",
              "       [5.61742120e-01, 4.17993779e-01, 2.02641014e-02],\n",
              "       [4.91516277e-01, 4.00387405e-02, 4.68444983e-01],\n",
              "       [7.23510290e-01, 4.94732683e-02, 2.27016442e-01],\n",
              "       [7.09535345e-02, 2.72051002e-01, 6.56995464e-01],\n",
              "       [4.54130040e-01, 4.80214276e-02, 4.97848532e-01],\n",
              "       [4.76442136e-01, 4.35009294e-02, 4.80056935e-01],\n",
              "       [2.11965219e-01, 1.64445324e-01, 6.23589456e-01],\n",
              "       [6.19737613e-01, 3.50848096e-02, 3.45177577e-01],\n",
              "       [6.64382275e-01, 2.69446373e-02, 3.08673088e-01],\n",
              "       [5.91446019e-01, 3.84994768e-01, 2.35592127e-02],\n",
              "       [5.71075887e-01, 5.47264401e-02, 3.74197673e-01],\n",
              "       [5.85997025e-01, 1.70192680e-03, 4.12301048e-01],\n",
              "       [7.95912347e-02, 5.27180332e-01, 3.93228434e-01],\n",
              "       [1.90161284e-01, 1.16691561e-02, 7.98169560e-01],\n",
              "       [7.45803170e-01, 1.65282230e-02, 2.37668607e-01],\n",
              "       [6.19475931e-01, 1.82718808e-01, 1.97805261e-01],\n",
              "       [1.85098801e-02, 8.94469401e-01, 8.70207187e-02],\n",
              "       [5.03795527e-02, 3.39170928e-01, 6.10449519e-01],\n",
              "       [1.30866873e-01, 7.70791566e-01, 9.83415611e-02],\n",
              "       [6.68614332e-02, 8.97972281e-01, 3.51662858e-02],\n",
              "       [7.29278732e-01, 4.29245256e-02, 2.27796742e-01],\n",
              "       [1.26491557e-01, 7.24502850e-01, 1.49005593e-01],\n",
              "       [6.09672004e-01, 7.90280527e-02, 3.11299943e-01],\n",
              "       [5.39939494e-01, 1.61226271e-01, 2.98834235e-01],\n",
              "       [4.63994815e-01, 4.74450420e-01, 6.15547654e-02],\n",
              "       [1.41586555e-02, 3.11504560e-01, 6.74336784e-01],\n",
              "       [5.06203021e-01, 2.13589793e-01, 2.80207186e-01],\n",
              "       [2.18489037e-01, 6.33685394e-01, 1.47825569e-01],\n",
              "       [6.21302612e-01, 3.25150946e-01, 5.35464425e-02],\n",
              "       [2.66730654e-01, 9.33681705e-02, 6.39901175e-01],\n",
              "       [7.07592876e-02, 1.26547808e-01, 8.02692904e-01],\n",
              "       [4.28074036e-02, 9.02447892e-01, 5.47447048e-02]])"
            ]
          },
          "metadata": {},
          "execution_count": 11
        }
      ]
    },
    {
      "cell_type": "code",
      "source": [
        "from sklearn.metrics import confusion_matrix, accuracy_score, classification_report\n",
        "print(confusion_matrix(y_test, y_pred))\n",
        "print(accuracy_score(y_test, y_pred))\n",
        "print(classification_report(y_test, y_pred))"
      ],
      "metadata": {
        "colab": {
          "base_uri": "https://localhost:8080/"
        },
        "id": "g2KRUiVUFYnb",
        "outputId": "cf6d9f11-3f3c-4508-aac1-7001e5b0434d"
      },
      "execution_count": null,
      "outputs": [
        {
          "output_type": "stream",
          "name": "stdout",
          "text": [
            "[[75 21  3]\n",
            " [10 58 21]\n",
            " [23 14 75]]\n",
            "0.6933333333333334\n",
            "              precision    recall  f1-score   support\n",
            "\n",
            "           0       0.69      0.76      0.72        99\n",
            "           1       0.62      0.65      0.64        89\n",
            "           2       0.76      0.67      0.71       112\n",
            "\n",
            "    accuracy                           0.69       300\n",
            "   macro avg       0.69      0.69      0.69       300\n",
            "weighted avg       0.70      0.69      0.69       300\n",
            "\n"
          ]
        }
      ]
    },
    {
      "cell_type": "code",
      "source": [
        "#multinomial\n",
        "from sklearn.model_selection import train_test_split\n",
        "X_train, X_test, y_train, y_test = train_test_split(X, y, test_size = 0.30, random_state=1)\n",
        "model = LogisticRegression(multi_class='multinomial', solver = 'saga')\n",
        "model"
      ],
      "metadata": {
        "colab": {
          "base_uri": "https://localhost:8080/",
          "height": 74
        },
        "id": "VS1XwrJNFYqE",
        "outputId": "24054cf0-86c1-454d-d942-9416aff29f49"
      },
      "execution_count": null,
      "outputs": [
        {
          "output_type": "execute_result",
          "data": {
            "text/plain": [
              "LogisticRegression(multi_class='multinomial', solver='saga')"
            ],
            "text/html": [
              "<style>#sk-container-id-3 {color: black;}#sk-container-id-3 pre{padding: 0;}#sk-container-id-3 div.sk-toggleable {background-color: white;}#sk-container-id-3 label.sk-toggleable__label {cursor: pointer;display: block;width: 100%;margin-bottom: 0;padding: 0.3em;box-sizing: border-box;text-align: center;}#sk-container-id-3 label.sk-toggleable__label-arrow:before {content: \"▸\";float: left;margin-right: 0.25em;color: #696969;}#sk-container-id-3 label.sk-toggleable__label-arrow:hover:before {color: black;}#sk-container-id-3 div.sk-estimator:hover label.sk-toggleable__label-arrow:before {color: black;}#sk-container-id-3 div.sk-toggleable__content {max-height: 0;max-width: 0;overflow: hidden;text-align: left;background-color: #f0f8ff;}#sk-container-id-3 div.sk-toggleable__content pre {margin: 0.2em;color: black;border-radius: 0.25em;background-color: #f0f8ff;}#sk-container-id-3 input.sk-toggleable__control:checked~div.sk-toggleable__content {max-height: 200px;max-width: 100%;overflow: auto;}#sk-container-id-3 input.sk-toggleable__control:checked~label.sk-toggleable__label-arrow:before {content: \"▾\";}#sk-container-id-3 div.sk-estimator input.sk-toggleable__control:checked~label.sk-toggleable__label {background-color: #d4ebff;}#sk-container-id-3 div.sk-label input.sk-toggleable__control:checked~label.sk-toggleable__label {background-color: #d4ebff;}#sk-container-id-3 input.sk-hidden--visually {border: 0;clip: rect(1px 1px 1px 1px);clip: rect(1px, 1px, 1px, 1px);height: 1px;margin: -1px;overflow: hidden;padding: 0;position: absolute;width: 1px;}#sk-container-id-3 div.sk-estimator {font-family: monospace;background-color: #f0f8ff;border: 1px dotted black;border-radius: 0.25em;box-sizing: border-box;margin-bottom: 0.5em;}#sk-container-id-3 div.sk-estimator:hover {background-color: #d4ebff;}#sk-container-id-3 div.sk-parallel-item::after {content: \"\";width: 100%;border-bottom: 1px solid gray;flex-grow: 1;}#sk-container-id-3 div.sk-label:hover label.sk-toggleable__label {background-color: #d4ebff;}#sk-container-id-3 div.sk-serial::before {content: \"\";position: absolute;border-left: 1px solid gray;box-sizing: border-box;top: 0;bottom: 0;left: 50%;z-index: 0;}#sk-container-id-3 div.sk-serial {display: flex;flex-direction: column;align-items: center;background-color: white;padding-right: 0.2em;padding-left: 0.2em;position: relative;}#sk-container-id-3 div.sk-item {position: relative;z-index: 1;}#sk-container-id-3 div.sk-parallel {display: flex;align-items: stretch;justify-content: center;background-color: white;position: relative;}#sk-container-id-3 div.sk-item::before, #sk-container-id-3 div.sk-parallel-item::before {content: \"\";position: absolute;border-left: 1px solid gray;box-sizing: border-box;top: 0;bottom: 0;left: 50%;z-index: -1;}#sk-container-id-3 div.sk-parallel-item {display: flex;flex-direction: column;z-index: 1;position: relative;background-color: white;}#sk-container-id-3 div.sk-parallel-item:first-child::after {align-self: flex-end;width: 50%;}#sk-container-id-3 div.sk-parallel-item:last-child::after {align-self: flex-start;width: 50%;}#sk-container-id-3 div.sk-parallel-item:only-child::after {width: 0;}#sk-container-id-3 div.sk-dashed-wrapped {border: 1px dashed gray;margin: 0 0.4em 0.5em 0.4em;box-sizing: border-box;padding-bottom: 0.4em;background-color: white;}#sk-container-id-3 div.sk-label label {font-family: monospace;font-weight: bold;display: inline-block;line-height: 1.2em;}#sk-container-id-3 div.sk-label-container {text-align: center;}#sk-container-id-3 div.sk-container {/* jupyter's `normalize.less` sets `[hidden] { display: none; }` but bootstrap.min.css set `[hidden] { display: none !important; }` so we also need the `!important` here to be able to override the default hidden behavior on the sphinx rendered scikit-learn.org. See: https://github.com/scikit-learn/scikit-learn/issues/21755 */display: inline-block !important;position: relative;}#sk-container-id-3 div.sk-text-repr-fallback {display: none;}</style><div id=\"sk-container-id-3\" class=\"sk-top-container\"><div class=\"sk-text-repr-fallback\"><pre>LogisticRegression(multi_class=&#x27;multinomial&#x27;, solver=&#x27;saga&#x27;)</pre><b>In a Jupyter environment, please rerun this cell to show the HTML representation or trust the notebook. <br />On GitHub, the HTML representation is unable to render, please try loading this page with nbviewer.org.</b></div><div class=\"sk-container\" hidden><div class=\"sk-item\"><div class=\"sk-estimator sk-toggleable\"><input class=\"sk-toggleable__control sk-hidden--visually\" id=\"sk-estimator-id-3\" type=\"checkbox\" checked><label for=\"sk-estimator-id-3\" class=\"sk-toggleable__label sk-toggleable__label-arrow\">LogisticRegression</label><div class=\"sk-toggleable__content\"><pre>LogisticRegression(multi_class=&#x27;multinomial&#x27;, solver=&#x27;saga&#x27;)</pre></div></div></div></div></div>"
            ]
          },
          "metadata": {},
          "execution_count": 13
        }
      ]
    },
    {
      "cell_type": "code",
      "source": [
        "model.fit(X_train, y_train)\n",
        "y_pred = model.predict(X_test)\n",
        "from sklearn.metrics import confusion_matrix, accuracy_score, classification_report\n",
        "print(confusion_matrix(y_test, y_pred))\n",
        "print(accuracy_score(y_test, y_pred))\n",
        "print(classification_report(y_test, y_pred))"
      ],
      "metadata": {
        "colab": {
          "base_uri": "https://localhost:8080/"
        },
        "id": "Iz31IGntFYsy",
        "outputId": "be84a4a2-5545-43a9-af23-084d40dfb90f"
      },
      "execution_count": null,
      "outputs": [
        {
          "output_type": "stream",
          "name": "stdout",
          "text": [
            "[[70 21  8]\n",
            " [13 57 19]\n",
            " [21 13 78]]\n",
            "0.6833333333333333\n",
            "              precision    recall  f1-score   support\n",
            "\n",
            "           0       0.67      0.71      0.69        99\n",
            "           1       0.63      0.64      0.63        89\n",
            "           2       0.74      0.70      0.72       112\n",
            "\n",
            "    accuracy                           0.68       300\n",
            "   macro avg       0.68      0.68      0.68       300\n",
            "weighted avg       0.69      0.68      0.68       300\n",
            "\n"
          ]
        }
      ]
    },
    {
      "cell_type": "code",
      "source": [
        "#roc auc is only for binary classification problem"
      ],
      "metadata": {
        "id": "P1iO4tr7FYvZ"
      },
      "execution_count": null,
      "outputs": []
    }
  ]
}