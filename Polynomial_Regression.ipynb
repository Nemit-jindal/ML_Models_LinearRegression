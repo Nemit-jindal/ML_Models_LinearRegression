{
  "nbformat": 4,
  "nbformat_minor": 0,
  "metadata": {
    "colab": {
      "provenance": [],
      "authorship_tag": "ABX9TyPFheLB3GkGimOY4tAkAJjo",
      "include_colab_link": true
    },
    "kernelspec": {
      "name": "python3",
      "display_name": "Python 3"
    },
    "language_info": {
      "name": "python"
    }
  },
  "cells": [
    {
      "cell_type": "markdown",
      "metadata": {
        "id": "view-in-github",
        "colab_type": "text"
      },
      "source": [
        "<a href=\"https://colab.research.google.com/github/Nemit-jindal/ML_models/blob/main/Polynomial_Regression.ipynb\" target=\"_parent\"><img src=\"https://colab.research.google.com/assets/colab-badge.svg\" alt=\"Open In Colab\"/></a>"
      ]
    },
    {
      "cell_type": "code",
      "execution_count": 1,
      "metadata": {
        "id": "EnTfiBPkI3_6"
      },
      "outputs": [],
      "source": [
        "import pandas as pd\n",
        "import numpy as np\n",
        "import matplotlib.pyplot as plt"
      ]
    },
    {
      "cell_type": "code",
      "source": [
        "np.random.seed(1)"
      ],
      "metadata": {
        "id": "kjTCjFEjJOPe"
      },
      "execution_count": 2,
      "outputs": []
    },
    {
      "cell_type": "code",
      "source": [
        "x=2*np.random.rand(100,1)"
      ],
      "metadata": {
        "id": "jvFgjL4kJVmn"
      },
      "execution_count": 4,
      "outputs": []
    },
    {
      "cell_type": "code",
      "source": [
        "x"
      ],
      "metadata": {
        "colab": {
          "base_uri": "https://localhost:8080/"
        },
        "id": "YgVnvS3EJeId",
        "outputId": "413dba17-d4f9-4ec7-e356-8620e0a079ab"
      },
      "execution_count": 5,
      "outputs": [
        {
          "output_type": "execute_result",
          "data": {
            "text/plain": [
              "array([[0.6532898 ],\n",
              "       [1.0541162 ],\n",
              "       [1.7718842 ],\n",
              "       [0.71453952],\n",
              "       [1.8170703 ],\n",
              "       [1.24672023],\n",
              "       [0.03164249],\n",
              "       [1.85887447],\n",
              "       [1.38179384],\n",
              "       [1.9946457 ],\n",
              "       [0.34468102],\n",
              "       [0.2742715 ],\n",
              "       [1.86519093],\n",
              "       [1.39363632],\n",
              "       [0.13200035],\n",
              "       [1.51092611],\n",
              "       [1.50775238],\n",
              "       [1.84604907],\n",
              "       [1.42304952],\n",
              "       [0.24854192],\n",
              "       [0.03976027],\n",
              "       [0.05242197],\n",
              "       [0.05661298],\n",
              "       [0.49242214],\n",
              "       [1.7200559 ],\n",
              "       [1.07766213],\n",
              "       [1.10564396],\n",
              "       [1.68406178],\n",
              "       [0.24834663],\n",
              "       [0.55836736],\n",
              "       [1.17151854],\n",
              "       [1.9391915 ],\n",
              "       [1.12206044],\n",
              "       [0.03729458],\n",
              "       [1.60126535],\n",
              "       [0.46594855],\n",
              "       [1.61421039],\n",
              "       [0.77572129],\n",
              "       [1.72708371],\n",
              "       [1.49424329],\n",
              "       [1.11248047],\n",
              "       [0.27291045],\n",
              "       [0.11983538],\n",
              "       [0.24268691],\n",
              "       [0.08910376],\n",
              "       [0.21498826],\n",
              "       [0.45141868],\n",
              "       [1.42597796],\n",
              "       [1.11943396],\n",
              "       [0.02511196],\n",
              "       [0.14394856],\n",
              "       [1.93455266],\n",
              "       [1.13620092],\n",
              "       [0.40658647],\n",
              "       [0.50465149],\n",
              "       [1.48765171],\n",
              "       [0.39085896],\n",
              "       [1.16271785],\n",
              "       [1.94003998],\n",
              "       [1.6936576 ],\n",
              "       [0.47969552],\n",
              "       [0.98753943],\n",
              "       [1.23991144],\n",
              "       [1.6579618 ],\n",
              "       [0.31358279],\n",
              "       [0.0371524 ],\n",
              "       [0.14004429],\n",
              "       [0.97269022],\n",
              "       [1.21265892],\n",
              "       [1.13770287],\n",
              "       [0.63472482],\n",
              "       [1.97723231],\n",
              "       [1.15949044],\n",
              "       [0.76028235],\n",
              "       [1.10189644],\n",
              "       [1.49066886],\n",
              "       [1.33846579],\n",
              "       [0.52983912],\n",
              "       [0.13266967],\n",
              "       [0.7401684 ],\n",
              "       [1.25943501],\n",
              "       [0.42034802],\n",
              "       [1.50551111],\n",
              "       [0.13307296],\n",
              "       [0.5206302 ],\n",
              "       [1.60950913],\n",
              "       [0.38686857],\n",
              "       [1.27892176],\n",
              "       [1.04934062],\n",
              "       [1.84961594],\n",
              "       [0.52659354],\n",
              "       [0.13192218],\n",
              "       [1.47013193],\n",
              "       [1.54435606],\n",
              "       [1.81563171],\n",
              "       [1.86394414],\n",
              "       [0.02790315],\n",
              "       [0.46872417],\n",
              "       [1.23355671],\n",
              "       [1.89803264]])"
            ]
          },
          "metadata": {},
          "execution_count": 5
        }
      ]
    },
    {
      "cell_type": "code",
      "source": [
        "y=4+3*x**2+np.random.rand(100,1)"
      ],
      "metadata": {
        "id": "SN38U0IjJhXS"
      },
      "execution_count": 6,
      "outputs": []
    },
    {
      "cell_type": "code",
      "source": [
        "y"
      ],
      "metadata": {
        "colab": {
          "base_uri": "https://localhost:8080/"
        },
        "id": "5TaCzTxjJ0zc",
        "outputId": "873e1238-9bf4-427b-c83b-636e60354979"
      },
      "execution_count": 7,
      "outputs": [
        {
          "output_type": "execute_result",
          "data": {
            "text/plain": [
              "array([[ 6.23053882],\n",
              "       [ 7.89013611],\n",
              "       [14.33432719],\n",
              "       [ 6.17326639],\n",
              "       [14.29524116],\n",
              "       [ 9.14892467],\n",
              "       [ 4.60731422],\n",
              "       [14.91579078],\n",
              "       [10.65424403],\n",
              "       [16.85456785],\n",
              "       [ 4.75129062],\n",
              "       [ 5.18893709],\n",
              "       [14.61076724],\n",
              "       [ 9.95299612],\n",
              "       [ 4.18735143],\n",
              "       [11.35435525],\n",
              "       [10.8414765 ],\n",
              "       [15.17166173],\n",
              "       [10.90232526],\n",
              "       [ 4.20033824],\n",
              "       [ 4.18093889],\n",
              "       [ 4.34030776],\n",
              "       [ 4.14061193],\n",
              "       [ 5.53692937],\n",
              "       [13.22051352],\n",
              "       [ 8.42417447],\n",
              "       [ 8.24935986],\n",
              "       [13.38702427],\n",
              "       [ 5.02976259],\n",
              "       [ 5.84071464],\n",
              "       [ 8.57724736],\n",
              "       [15.8277378 ],\n",
              "       [ 8.57566247],\n",
              "       [ 4.28989151],\n",
              "       [12.18240564],\n",
              "       [ 5.25043445],\n",
              "       [11.83255884],\n",
              "       [ 6.39871196],\n",
              "       [13.38213076],\n",
              "       [11.50564952],\n",
              "       [ 8.02808318],\n",
              "       [ 5.11632905],\n",
              "       [ 4.62093877],\n",
              "       [ 4.36070101],\n",
              "       [ 4.81174767],\n",
              "       [ 4.75069103],\n",
              "       [ 4.66524574],\n",
              "       [10.52043311],\n",
              "       [ 8.43846604],\n",
              "       [ 4.92049361],\n",
              "       [ 4.06256559],\n",
              "       [16.20424113],\n",
              "       [ 8.24943793],\n",
              "       [ 5.46972121],\n",
              "       [ 5.36873548],\n",
              "       [11.46816862],\n",
              "       [ 5.03302369],\n",
              "       [ 8.68381463],\n",
              "       [15.57684163],\n",
              "       [13.19226157],\n",
              "       [ 5.44034513],\n",
              "       [ 7.78401621],\n",
              "       [ 9.3672233 ],\n",
              "       [12.94456923],\n",
              "       [ 5.15948193],\n",
              "       [ 4.3268219 ],\n",
              "       [ 4.729626  ],\n",
              "       [ 7.28925274],\n",
              "       [ 8.79372774],\n",
              "       [ 8.29391484],\n",
              "       [ 5.61010637],\n",
              "       [16.04572676],\n",
              "       [ 8.6551736 ],\n",
              "       [ 6.164335  ],\n",
              "       [ 8.61632936],\n",
              "       [11.34408186],\n",
              "       [ 9.57304188],\n",
              "       [ 5.26888947],\n",
              "       [ 4.39614996],\n",
              "       [ 6.44118657],\n",
              "       [ 9.63852795],\n",
              "       [ 5.43391933],\n",
              "       [11.4624109 ],\n",
              "       [ 4.3233335 ],\n",
              "       [ 5.06553411],\n",
              "       [12.62645684],\n",
              "       [ 4.97671651],\n",
              "       [ 9.7090837 ],\n",
              "       [ 7.87583572],\n",
              "       [14.99637991],\n",
              "       [ 5.3509139 ],\n",
              "       [ 4.8230943 ],\n",
              "       [11.05272164],\n",
              "       [11.62081679],\n",
              "       [14.23224437],\n",
              "       [14.4910726 ],\n",
              "       [ 4.38025994],\n",
              "       [ 4.73873313],\n",
              "       [ 9.54780361],\n",
              "       [14.98919657]])"
            ]
          },
          "metadata": {},
          "execution_count": 7
        }
      ]
    },
    {
      "cell_type": "code",
      "source": [
        "from sklearn.model_selection import train_test_split\n",
        "x_train,x_test,y_train,y_test=train_test_split(x,y,test_size=0.2,random_state=1)"
      ],
      "metadata": {
        "id": "NPak-GSTJ1ny"
      },
      "execution_count": 9,
      "outputs": []
    },
    {
      "cell_type": "code",
      "source": [
        "from sklearn.preprocessing import PolynomialFeatures\n",
        "poly_feat=PolynomialFeatures(degree=2,include_bias=False)\n",
        "x_train_poly=poly_feat.fit_transform(x_train)"
      ],
      "metadata": {
        "id": "MHrmRpSpKWhl"
      },
      "execution_count": 12,
      "outputs": []
    },
    {
      "cell_type": "code",
      "source": [
        "x_train_poly"
      ],
      "metadata": {
        "colab": {
          "base_uri": "https://localhost:8080/"
        },
        "id": "e5cPsom2K81G",
        "outputId": "512ea613-fc8b-4d6d-e61f-9438f47fa449"
      },
      "execution_count": 13,
      "outputs": [
        {
          "output_type": "execute_result",
          "data": {
            "text/plain": [
              "array([[1.77188420e+00, 3.13957361e+00],\n",
              "       [7.60282345e-01, 5.78029244e-01],\n",
              "       [4.68724172e-01, 2.19702350e-01],\n",
              "       [1.23991144e+00, 1.53738037e+00],\n",
              "       [2.48541924e-01, 6.17730880e-02],\n",
              "       [4.65948548e-01, 2.17108049e-01],\n",
              "       [1.81563171e+00, 3.29651849e+00],\n",
              "       [1.68406178e+00, 2.83606409e+00],\n",
              "       [4.51418677e-01, 2.03778822e-01],\n",
              "       [1.72708371e+00, 2.98281814e+00],\n",
              "       [9.72690222e-01, 9.46126268e-01],\n",
              "       [1.89803264e+00, 3.60252791e+00],\n",
              "       [5.04651489e-01, 2.54673125e-01],\n",
              "       [1.86394414e+00, 3.47428775e+00],\n",
              "       [1.04934062e+00, 1.10111573e+00],\n",
              "       [1.11248047e+00, 1.23761279e+00],\n",
              "       [1.11943396e+00, 1.25313240e+00],\n",
              "       [1.69365760e+00, 2.86847608e+00],\n",
              "       [4.92422135e-01, 2.42479559e-01],\n",
              "       [1.60126535e+00, 2.56405071e+00],\n",
              "       [3.86868565e-01, 1.49667287e-01],\n",
              "       [4.06586469e-01, 1.65312557e-01],\n",
              "       [5.29839115e-01, 2.80729488e-01],\n",
              "       [1.51092611e+00, 2.28289770e+00],\n",
              "       [1.33072963e-01, 1.77084134e-02],\n",
              "       [2.72910451e-01, 7.44801144e-02],\n",
              "       [2.14988258e-01, 4.62199512e-02],\n",
              "       [1.31922181e-01, 1.74034619e-02],\n",
              "       [1.10564396e+00, 1.22244856e+00],\n",
              "       [1.23355671e+00, 1.52166217e+00],\n",
              "       [2.42686911e-01, 5.88969370e-02],\n",
              "       [1.48765171e+00, 2.21310760e+00],\n",
              "       [1.72005590e+00, 2.95859229e+00],\n",
              "       [1.81707030e+00, 3.30174448e+00],\n",
              "       [1.94003998e+00, 3.76375512e+00],\n",
              "       [2.51119603e-02, 6.30610551e-04],\n",
              "       [5.24219738e-02, 2.74806333e-03],\n",
              "       [1.27892176e+00, 1.63564087e+00],\n",
              "       [7.14539520e-01, 5.10566726e-01],\n",
              "       [1.10189644e+00, 1.21417576e+00],\n",
              "       [1.17151854e+00, 1.37245570e+00],\n",
              "       [1.40044287e-01, 1.96124024e-02],\n",
              "       [6.34724819e-01, 4.02875595e-01],\n",
              "       [1.19835379e-01, 1.43605181e-02],\n",
              "       [1.42597796e+00, 2.03341314e+00],\n",
              "       [1.84961594e+00, 3.42107913e+00],\n",
              "       [1.38179384e+00, 1.90935420e+00],\n",
              "       [4.79695518e-01, 2.30107790e-01],\n",
              "       [6.53289804e-01, 4.26787567e-01],\n",
              "       [5.26593541e-01, 2.77300757e-01],\n",
              "       [1.16271785e+00, 1.35191281e+00],\n",
              "       [5.66129760e-02, 3.20502906e-03],\n",
              "       [9.87539429e-01, 9.75234123e-01],\n",
              "       [1.65796180e+00, 2.74883733e+00],\n",
              "       [1.85887447e+00, 3.45541429e+00],\n",
              "       [2.79031460e-02, 7.78585554e-04],\n",
              "       [1.39363632e+00, 1.94222220e+00],\n",
              "       [1.21265892e+00, 1.47054166e+00],\n",
              "       [1.60950913e+00, 2.59051963e+00],\n",
              "       [1.32000345e-01, 1.74240912e-02],\n",
              "       [5.58367358e-01, 3.11774107e-01],\n",
              "       [2.48346630e-01, 6.16760488e-02],\n",
              "       [2.74271499e-01, 7.52248553e-02],\n",
              "       [1.42304952e+00, 2.02506993e+00],\n",
              "       [3.97602677e-02, 1.58087889e-03],\n",
              "       [1.43948559e-01, 2.07211877e-02],\n",
              "       [1.07766213e+00, 1.16135566e+00],\n",
              "       [3.16424857e-02, 1.00124690e-03],\n",
              "       [1.97723231e+00, 3.90944760e+00],\n",
              "       [1.33846579e+00, 1.79149066e+00],\n",
              "       [1.05411620e+00, 1.11116097e+00],\n",
              "       [1.50775238e+00, 2.27331723e+00],\n",
              "       [3.13582789e-01, 9.83341657e-02],\n",
              "       [7.40168396e-01, 5.47849254e-01],\n",
              "       [1.24672023e+00, 1.55431134e+00],\n",
              "       [1.49066886e+00, 2.22209366e+00],\n",
              "       [1.99464570e+00, 3.97861147e+00],\n",
              "       [1.15949044e+00, 1.34441808e+00],\n",
              "       [1.86519093e+00, 3.47893719e+00],\n",
              "       [7.75721288e-01, 6.01743517e-01]])"
            ]
          },
          "metadata": {},
          "execution_count": 13
        }
      ]
    },
    {
      "cell_type": "code",
      "source": [
        "from sklearn.linear_model import LinearRegression\n",
        "poly_reg=LinearRegression()"
      ],
      "metadata": {
        "id": "NlWZak36LOkN"
      },
      "execution_count": 14,
      "outputs": []
    },
    {
      "cell_type": "code",
      "source": [
        "poly_reg.fit(x_train_poly,y_train)"
      ],
      "metadata": {
        "colab": {
          "base_uri": "https://localhost:8080/",
          "height": 74
        },
        "id": "Wp2XwGVZLetp",
        "outputId": "7b127452-e73e-40c0-bd61-24b333179c64"
      },
      "execution_count": 15,
      "outputs": [
        {
          "output_type": "execute_result",
          "data": {
            "text/plain": [
              "LinearRegression()"
            ],
            "text/html": [
              "<style>#sk-container-id-2 {color: black;}#sk-container-id-2 pre{padding: 0;}#sk-container-id-2 div.sk-toggleable {background-color: white;}#sk-container-id-2 label.sk-toggleable__label {cursor: pointer;display: block;width: 100%;margin-bottom: 0;padding: 0.3em;box-sizing: border-box;text-align: center;}#sk-container-id-2 label.sk-toggleable__label-arrow:before {content: \"▸\";float: left;margin-right: 0.25em;color: #696969;}#sk-container-id-2 label.sk-toggleable__label-arrow:hover:before {color: black;}#sk-container-id-2 div.sk-estimator:hover label.sk-toggleable__label-arrow:before {color: black;}#sk-container-id-2 div.sk-toggleable__content {max-height: 0;max-width: 0;overflow: hidden;text-align: left;background-color: #f0f8ff;}#sk-container-id-2 div.sk-toggleable__content pre {margin: 0.2em;color: black;border-radius: 0.25em;background-color: #f0f8ff;}#sk-container-id-2 input.sk-toggleable__control:checked~div.sk-toggleable__content {max-height: 200px;max-width: 100%;overflow: auto;}#sk-container-id-2 input.sk-toggleable__control:checked~label.sk-toggleable__label-arrow:before {content: \"▾\";}#sk-container-id-2 div.sk-estimator input.sk-toggleable__control:checked~label.sk-toggleable__label {background-color: #d4ebff;}#sk-container-id-2 div.sk-label input.sk-toggleable__control:checked~label.sk-toggleable__label {background-color: #d4ebff;}#sk-container-id-2 input.sk-hidden--visually {border: 0;clip: rect(1px 1px 1px 1px);clip: rect(1px, 1px, 1px, 1px);height: 1px;margin: -1px;overflow: hidden;padding: 0;position: absolute;width: 1px;}#sk-container-id-2 div.sk-estimator {font-family: monospace;background-color: #f0f8ff;border: 1px dotted black;border-radius: 0.25em;box-sizing: border-box;margin-bottom: 0.5em;}#sk-container-id-2 div.sk-estimator:hover {background-color: #d4ebff;}#sk-container-id-2 div.sk-parallel-item::after {content: \"\";width: 100%;border-bottom: 1px solid gray;flex-grow: 1;}#sk-container-id-2 div.sk-label:hover label.sk-toggleable__label {background-color: #d4ebff;}#sk-container-id-2 div.sk-serial::before {content: \"\";position: absolute;border-left: 1px solid gray;box-sizing: border-box;top: 0;bottom: 0;left: 50%;z-index: 0;}#sk-container-id-2 div.sk-serial {display: flex;flex-direction: column;align-items: center;background-color: white;padding-right: 0.2em;padding-left: 0.2em;position: relative;}#sk-container-id-2 div.sk-item {position: relative;z-index: 1;}#sk-container-id-2 div.sk-parallel {display: flex;align-items: stretch;justify-content: center;background-color: white;position: relative;}#sk-container-id-2 div.sk-item::before, #sk-container-id-2 div.sk-parallel-item::before {content: \"\";position: absolute;border-left: 1px solid gray;box-sizing: border-box;top: 0;bottom: 0;left: 50%;z-index: -1;}#sk-container-id-2 div.sk-parallel-item {display: flex;flex-direction: column;z-index: 1;position: relative;background-color: white;}#sk-container-id-2 div.sk-parallel-item:first-child::after {align-self: flex-end;width: 50%;}#sk-container-id-2 div.sk-parallel-item:last-child::after {align-self: flex-start;width: 50%;}#sk-container-id-2 div.sk-parallel-item:only-child::after {width: 0;}#sk-container-id-2 div.sk-dashed-wrapped {border: 1px dashed gray;margin: 0 0.4em 0.5em 0.4em;box-sizing: border-box;padding-bottom: 0.4em;background-color: white;}#sk-container-id-2 div.sk-label label {font-family: monospace;font-weight: bold;display: inline-block;line-height: 1.2em;}#sk-container-id-2 div.sk-label-container {text-align: center;}#sk-container-id-2 div.sk-container {/* jupyter's `normalize.less` sets `[hidden] { display: none; }` but bootstrap.min.css set `[hidden] { display: none !important; }` so we also need the `!important` here to be able to override the default hidden behavior on the sphinx rendered scikit-learn.org. See: https://github.com/scikit-learn/scikit-learn/issues/21755 */display: inline-block !important;position: relative;}#sk-container-id-2 div.sk-text-repr-fallback {display: none;}</style><div id=\"sk-container-id-2\" class=\"sk-top-container\"><div class=\"sk-text-repr-fallback\"><pre>LinearRegression()</pre><b>In a Jupyter environment, please rerun this cell to show the HTML representation or trust the notebook. <br />On GitHub, the HTML representation is unable to render, please try loading this page with nbviewer.org.</b></div><div class=\"sk-container\" hidden><div class=\"sk-item\"><div class=\"sk-estimator sk-toggleable\"><input class=\"sk-toggleable__control sk-hidden--visually\" id=\"sk-estimator-id-2\" type=\"checkbox\" checked><label for=\"sk-estimator-id-2\" class=\"sk-toggleable__label sk-toggleable__label-arrow\">LinearRegression</label><div class=\"sk-toggleable__content\"><pre>LinearRegression()</pre></div></div></div></div></div>"
            ]
          },
          "metadata": {},
          "execution_count": 15
        }
      ]
    },
    {
      "cell_type": "code",
      "source": [
        "poly_reg.coef_"
      ],
      "metadata": {
        "colab": {
          "base_uri": "https://localhost:8080/"
        },
        "id": "JeXqt9cLLmRx",
        "outputId": "dd5e5542-3e83-41a7-820d-59773fbc83dc"
      },
      "execution_count": 16,
      "outputs": [
        {
          "output_type": "execute_result",
          "data": {
            "text/plain": [
              "array([[0.46214464, 2.76376824]])"
            ]
          },
          "metadata": {},
          "execution_count": 16
        }
      ]
    },
    {
      "cell_type": "code",
      "source": [
        "poly_reg.intercept_"
      ],
      "metadata": {
        "colab": {
          "base_uri": "https://localhost:8080/"
        },
        "id": "jeBdvuJtLppz",
        "outputId": "3f416a42-8e7c-4e0e-c578-4a4d0ed08058"
      },
      "execution_count": 17,
      "outputs": [
        {
          "output_type": "execute_result",
          "data": {
            "text/plain": [
              "array([4.41799811])"
            ]
          },
          "metadata": {},
          "execution_count": 17
        }
      ]
    },
    {
      "cell_type": "code",
      "source": [
        "y_pred=poly_reg.predict(x_train_poly)"
      ],
      "metadata": {
        "id": "dtm5aEnNLt3g"
      },
      "execution_count": 21,
      "outputs": []
    },
    {
      "cell_type": "code",
      "source": [
        "y_pred"
      ],
      "metadata": {
        "colab": {
          "base_uri": "https://localhost:8080/"
        },
        "id": "r6PRxlYTL0J8",
        "outputId": "405a333d-8d2b-42e5-c687-5256bdd4485e"
      },
      "execution_count": 22,
      "outputs": [
        {
          "output_type": "execute_result",
          "data": {
            "text/plain": [
              "array([[13.91391872],\n",
              "       [ 6.36689739],\n",
              "       [ 5.24182285],\n",
              "       [ 9.23997957],\n",
              "       [ 4.70358693],\n",
              "       [ 5.23337007],\n",
              "       [14.36789566],\n",
              "       [13.0345021 ],\n",
              "       [ 5.18981627],\n",
              "       [13.45997861],\n",
              "       [ 7.48239541],\n",
              "       [15.25171592],\n",
              "       [ 5.35507759],\n",
              "       [14.88153603],\n",
              "       [ 7.94617394],\n",
              "       [ 8.35259992],\n",
              "       [ 8.39870604],\n",
              "       [13.12851596],\n",
              "       [ 5.31572567],\n",
              "       [12.2444562 ],\n",
              "       [ 5.01043304],\n",
              "       [ 5.06278546],\n",
              "       [ 5.43873166],\n",
              "       [11.42566465],\n",
              "       [ 4.52843902],\n",
              "       [ 4.74996799],\n",
              "       [ 4.64509502],\n",
              "       [ 4.52706438],\n",
              "       [ 8.30753004],\n",
              "       [ 9.1936013 ],\n",
              "       [ 4.69293205],\n",
              "       [11.22202487],\n",
              "       [13.38977612],\n",
              "       [14.38300393],\n",
              "       [15.71672403],\n",
              "       [ 4.43134633],\n",
              "       [ 4.44981966],\n",
              "       [ 9.52957724],\n",
              "       [ 6.15930682],\n",
              "       [ 8.28293404],\n",
              "       [ 8.75255858],\n",
              "       [ 4.53692296],\n",
              "       [ 5.82478756],\n",
              "       [ 4.51306853],\n",
              "       [10.69688884],\n",
              "       [14.72785803],\n",
              "       [10.33359922],\n",
              "       [ 5.27565143],\n",
              "       [ 5.89945441],\n",
              "       [ 5.42775552],\n",
              "       [ 8.69171561],\n",
              "       [ 4.45301945],\n",
              "       [ 7.56970526],\n",
              "       [12.78136556],\n",
              "       [14.82703123],\n",
              "       [ 4.43304523],\n",
              "       [10.42991169],\n",
              "       [ 9.04265827],\n",
              "       [12.32142   ],\n",
              "       [ 4.52715751],\n",
              "       [ 5.53771597],\n",
              "       [ 4.70322848],\n",
              "       [ 4.75265528],\n",
              "       [10.67247676],\n",
              "       [ 4.44074229],\n",
              "       [ 4.54179173],\n",
              "       [ 8.12575178],\n",
              "       [ 4.43538873],\n",
              "       [16.13657253],\n",
              "       [ 9.98782789],\n",
              "       [ 7.97614367],\n",
              "       [11.39771974],\n",
              "       [ 4.83469156],\n",
              "       [ 6.27419133],\n",
              "       [ 9.28991948],\n",
              "       [11.2482546 ],\n",
              "       [16.33577294],\n",
              "       [ 8.66951038],\n",
              "       [14.8949622 ],\n",
              "       [ 6.43957316]])"
            ]
          },
          "metadata": {},
          "execution_count": 22
        }
      ]
    },
    {
      "cell_type": "code",
      "source": [
        "plt.scatter(x_train,y_train,label=\"Train data\")"
      ],
      "metadata": {
        "colab": {
          "base_uri": "https://localhost:8080/",
          "height": 447
        },
        "id": "Gtgcb4ZbMCuq",
        "outputId": "2887568f-ee25-4b49-fd22-bb5241881829"
      },
      "execution_count": 23,
      "outputs": [
        {
          "output_type": "execute_result",
          "data": {
            "text/plain": [
              "<matplotlib.collections.PathCollection at 0x7b92841a6380>"
            ]
          },
          "metadata": {},
          "execution_count": 23
        },
        {
          "output_type": "display_data",
          "data": {
            "text/plain": [
              "<Figure size 640x480 with 1 Axes>"
            ],
            "image/png": "[encoded data removed]"
          },
          "metadata": {}
        }
      ]
    },
    {
      "cell_type": "code",
      "source": [
        "from sklearn.metrics import mean_squared_error\n",
        "mean_squared_error(y_train,y_pred)"
      ],
      "metadata": {
        "colab": {
          "base_uri": "https://localhost:8080/"
        },
        "id": "3fZKf7gnMYJQ",
        "outputId": "00ea8808-bb4c-4dbe-eb6a-8ee64698dc40"
      },
      "execution_count": 25,
      "outputs": [
        {
          "output_type": "execute_result",
          "data": {
            "text/plain": [
              "0.07300235473494783"
            ]
          },
          "metadata": {},
          "execution_count": 25
        }
      ]
    }
  ]
}