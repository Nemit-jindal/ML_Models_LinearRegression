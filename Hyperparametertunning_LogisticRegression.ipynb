{
  "nbformat": 4,
  "nbformat_minor": 0,
  "metadata": {
    "colab": {
      "provenance": [],
      "authorship_tag": "ABX9TyO3D1Wji1yDusYxR3CSlQcP",
      "include_colab_link": true
    },
    "kernelspec": {
      "name": "python3",
      "display_name": "Python 3"
    },
    "language_info": {
      "name": "python"
    }
  },
  "cells": [
    {
      "cell_type": "markdown",
      "metadata": {
        "id": "view-in-github",
        "colab_type": "text"
      },
      "source": [
        "<a href=\"https://colab.research.google.com/github/Nemit-jindal/ML_Models_LinearRegression/blob/main/Hyperparametertunning_LogisticRegression.ipynb\" target=\"_parent\"><img src=\"https://colab.research.google.com/assets/colab-badge.svg\" alt=\"Open In Colab\"/></a>"
      ]
    },
    {
      "cell_type": "code",
      "execution_count": null,
      "metadata": {
        "id": "UgIjxp0-5iXV"
      },
      "outputs": [],
      "source": [
        "from sklearn.datasets import make_classification\n",
        "from sklearn.linear_model import LogisticRegression\n",
        "x, y = make_classification(n_samples=1000, n_features=10, n_informative=5, n_redundant=5, n_classes=2, random_state=1)\n",
        "import warnings\n",
        "warnings.filterwarnings('ignore')\n"
      ]
    },
    {
      "cell_type": "code",
      "source": [
        "x"
      ],
      "metadata": {
        "colab": {
          "base_uri": "https://localhost:8080/"
        },
        "id": "MbDCy9j18WRA",
        "outputId": "32e71ed2-7bf8-404f-91ba-4cd955719b1c"
      },
      "execution_count": null,
      "outputs": [
        {
          "output_type": "execute_result",
          "data": {
            "text/plain": [
              "array([[ 2.56999479, -0.13019997,  3.16075093, ..., -1.93094078,\n",
              "         3.26130366,  2.05692145],\n",
              "       [ 0.34129317,  2.51321418, -0.80416572, ...,  6.24734437,\n",
              "        -1.92769365,  2.9503149 ],\n",
              "       [ 2.27539972,  3.36561455,  0.17164362, ...,  2.74693781,\n",
              "         0.13492444,  2.00339547],\n",
              "       ...,\n",
              "       [ 0.5234359 ,  1.90466429,  0.93243365, ...,  1.53945231,\n",
              "         1.90646166,  1.99458587],\n",
              "       [ 1.33747921,  3.25859684,  0.78792366, ...,  5.18788314,\n",
              "        -0.82071083,  3.51411431],\n",
              "       [-0.98534299,  0.83919047,  2.5820803 , ...,  3.04705685,\n",
              "         0.66885641,  3.32838496]])"
            ]
          },
          "metadata": {},
          "execution_count": 4
        }
      ]
    },
    {
      "cell_type": "code",
      "source": [
        "y"
      ],
      "metadata": {
        "colab": {
          "base_uri": "https://localhost:8080/"
        },
        "id": "x0j2Us148ffL",
        "outputId": "2af040d0-6757-4f89-e6b4-4bb42ab1c12f"
      },
      "execution_count": null,
      "outputs": [
        {
          "output_type": "execute_result",
          "data": {
            "text/plain": [
              "array([1, 0, 0, 1, 0, 1, 1, 0, 0, 0, 1, 0, 1, 1, 0, 0, 1, 1, 1, 0, 0, 1,\n",
              "       1, 0, 1, 1, 1, 0, 0, 1, 1, 0, 1, 0, 1, 1, 1, 0, 0, 0, 0, 0, 0, 1,\n",
              "       0, 1, 0, 1, 1, 1, 0, 1, 1, 0, 1, 1, 0, 1, 0, 0, 0, 1, 0, 0, 0, 0,\n",
              "       1, 1, 0, 0, 0, 1, 0, 0, 1, 0, 0, 1, 1, 0, 1, 0, 1, 1, 1, 0, 1, 0,\n",
              "       0, 1, 0, 0, 0, 1, 0, 1, 1, 1, 0, 1, 1, 1, 1, 0, 1, 0, 1, 1, 0, 0,\n",
              "       1, 0, 1, 0, 1, 0, 1, 1, 1, 1, 1, 0, 1, 0, 0, 1, 0, 0, 1, 0, 1, 0,\n",
              "       0, 0, 1, 1, 0, 0, 0, 0, 0, 1, 1, 1, 0, 1, 0, 1, 1, 1, 1, 1, 0, 1,\n",
              "       1, 0, 1, 1, 0, 0, 0, 0, 0, 0, 1, 0, 1, 1, 1, 0, 0, 0, 0, 1, 1, 0,\n",
              "       1, 0, 1, 1, 1, 0, 0, 0, 1, 1, 1, 1, 1, 1, 0, 1, 1, 0, 1, 1, 0, 0,\n",
              "       1, 1, 0, 0, 1, 0, 0, 1, 1, 1, 1, 0, 1, 1, 1, 1, 0, 0, 1, 1, 1, 0,\n",
              "       0, 1, 1, 1, 0, 0, 0, 1, 1, 1, 1, 0, 0, 1, 0, 1, 1, 0, 1, 0, 0, 1,\n",
              "       0, 0, 1, 0, 0, 1, 0, 1, 1, 0, 0, 1, 0, 0, 1, 1, 0, 1, 1, 0, 1, 0,\n",
              "       1, 1, 1, 1, 0, 1, 0, 1, 1, 0, 1, 0, 1, 1, 0, 1, 0, 1, 1, 1, 1, 0,\n",
              "       0, 0, 0, 0, 0, 1, 1, 1, 0, 1, 1, 1, 0, 1, 1, 1, 0, 0, 1, 0, 1, 1,\n",
              "       0, 1, 0, 0, 0, 1, 1, 1, 1, 0, 0, 1, 0, 1, 0, 1, 0, 0, 0, 1, 0, 1,\n",
              "       0, 0, 0, 0, 1, 0, 0, 0, 0, 0, 1, 1, 0, 0, 1, 0, 0, 1, 1, 0, 0, 0,\n",
              "       0, 1, 1, 1, 1, 1, 0, 1, 1, 0, 1, 1, 1, 1, 1, 1, 0, 0, 1, 1, 1, 0,\n",
              "       1, 0, 0, 0, 1, 0, 0, 0, 0, 1, 0, 0, 0, 1, 1, 0, 1, 1, 0, 0, 0, 1,\n",
              "       1, 1, 0, 1, 0, 0, 0, 1, 1, 0, 0, 1, 1, 1, 1, 0, 0, 0, 0, 1, 1, 0,\n",
              "       1, 1, 1, 0, 0, 1, 1, 1, 0, 0, 1, 0, 1, 1, 1, 1, 1, 0, 0, 1, 1, 1,\n",
              "       0, 1, 0, 1, 0, 1, 0, 0, 0, 1, 1, 0, 0, 0, 1, 0, 1, 1, 0, 1, 0, 0,\n",
              "       0, 1, 0, 1, 0, 0, 0, 0, 0, 0, 1, 1, 1, 1, 0, 0, 0, 1, 1, 0, 0, 1,\n",
              "       1, 1, 1, 1, 0, 0, 0, 0, 0, 0, 0, 1, 1, 0, 1, 0, 0, 0, 1, 0, 1, 1,\n",
              "       1, 1, 1, 1, 0, 0, 0, 0, 0, 1, 0, 1, 0, 1, 1, 0, 1, 0, 1, 0, 0, 0,\n",
              "       1, 0, 0, 1, 1, 1, 1, 1, 1, 0, 0, 0, 0, 1, 0, 1, 1, 0, 0, 0, 1, 0,\n",
              "       1, 0, 1, 0, 1, 1, 0, 0, 0, 1, 1, 0, 0, 0, 0, 1, 0, 1, 0, 1, 0, 1,\n",
              "       0, 0, 1, 1, 0, 0, 1, 1, 0, 1, 0, 1, 0, 1, 1, 1, 0, 1, 0, 0, 0, 1,\n",
              "       1, 1, 0, 0, 1, 0, 1, 1, 0, 1, 0, 1, 1, 1, 1, 0, 0, 1, 1, 0, 0, 1,\n",
              "       1, 0, 1, 1, 1, 0, 0, 1, 0, 0, 0, 0, 0, 0, 1, 1, 0, 0, 1, 1, 1, 1,\n",
              "       1, 1, 0, 1, 1, 1, 0, 1, 1, 0, 0, 1, 1, 0, 1, 1, 0, 0, 1, 0, 0, 1,\n",
              "       1, 1, 0, 1, 1, 1, 0, 0, 0, 1, 1, 0, 0, 1, 0, 1, 0, 0, 0, 0, 0, 0,\n",
              "       0, 0, 0, 1, 1, 1, 1, 1, 1, 0, 0, 1, 0, 1, 1, 0, 1, 0, 1, 1, 0, 1,\n",
              "       0, 0, 1, 1, 0, 0, 0, 1, 0, 0, 0, 0, 1, 0, 1, 0, 0, 0, 1, 0, 0, 0,\n",
              "       1, 0, 0, 1, 1, 0, 0, 0, 0, 1, 1, 1, 0, 1, 1, 1, 0, 1, 0, 1, 0, 0,\n",
              "       1, 1, 1, 0, 1, 0, 0, 1, 0, 1, 1, 0, 0, 1, 0, 1, 1, 0, 1, 0, 0, 0,\n",
              "       0, 0, 1, 1, 0, 1, 1, 1, 1, 0, 0, 1, 0, 1, 0, 1, 1, 1, 1, 1, 0, 0,\n",
              "       0, 0, 0, 0, 0, 0, 0, 1, 1, 1, 1, 0, 0, 1, 0, 1, 1, 1, 0, 0, 0, 0,\n",
              "       0, 0, 0, 1, 0, 1, 1, 1, 1, 0, 1, 1, 1, 0, 0, 1, 1, 0, 1, 0, 1, 0,\n",
              "       1, 0, 0, 1, 1, 0, 1, 1, 1, 1, 1, 1, 0, 0, 0, 1, 0, 1, 1, 1, 1, 0,\n",
              "       0, 1, 0, 0, 1, 0, 1, 1, 1, 0, 1, 1, 0, 1, 0, 0, 1, 0, 0, 0, 1, 0,\n",
              "       0, 1, 0, 0, 1, 0, 0, 1, 1, 1, 1, 1, 1, 0, 0, 1, 1, 0, 0, 1, 0, 1,\n",
              "       1, 0, 1, 0, 0, 0, 0, 0, 0, 0, 0, 1, 0, 1, 0, 1, 0, 1, 1, 1, 0, 1,\n",
              "       1, 1, 1, 1, 0, 0, 0, 0, 0, 0, 1, 0, 0, 1, 1, 1, 0, 0, 0, 0, 1, 1,\n",
              "       0, 0, 0, 1, 1, 0, 0, 1, 1, 0, 1, 0, 1, 0, 1, 0, 1, 0, 1, 0, 1, 0,\n",
              "       0, 1, 0, 1, 1, 1, 0, 1, 0, 0, 1, 1, 1, 0, 1, 0, 0, 1, 1, 0, 0, 1,\n",
              "       1, 0, 0, 0, 0, 1, 1, 0, 0, 0])"
            ]
          },
          "metadata": {},
          "execution_count": 5
        }
      ]
    },
    {
      "cell_type": "code",
      "source": [
        "from sklearn.model_selection import train_test_split\n",
        "x_train, x_test, y_train, y_test = train_test_split(X, y, test_size=0.20, random_state=1)"
      ],
      "metadata": {
        "id": "XSIAXuGo8f9B"
      },
      "execution_count": null,
      "outputs": []
    },
    {
      "cell_type": "code",
      "source": [
        "#Grid Search CV-->Take all possible outcomes\n",
        "from sklearn.model_selection import GridSearchCV\n",
        "params={'penalty':('l1','l2','elasticnet'),'C':[1,2,3,4,5,10,20,30,40]}\n",
        "\n",
        "classifier=LogisticRegression()"
      ],
      "metadata": {
        "id": "CADv9aJD8nvW"
      },
      "execution_count": null,
      "outputs": []
    },
    {
      "cell_type": "code",
      "source": [
        "clf=GridSearchCV(classifier,param_grid=params,cv=5,verbose=3)"
      ],
      "metadata": {
        "id": "iFt5H9U2BL-K"
      },
      "execution_count": null,
      "outputs": []
    },
    {
      "cell_type": "code",
      "source": [
        "clf"
      ],
      "metadata": {
        "colab": {
          "base_uri": "https://localhost:8080/",
          "height": 117
        },
        "id": "v1eVPrYVBc3A",
        "outputId": "deb75a40-c366-4b61-c9db-eb48613bca89"
      },
      "execution_count": null,
      "outputs": [
        {
          "output_type": "execute_result",
          "data": {
            "text/plain": [
              "GridSearchCV(cv=5, estimator=LogisticRegression(),\n",
              "             param_grid={'C': [1, 2, 3, 4, 5, 10, 20, 30, 40],\n",
              "                         'penalty': ('l1', 'l2', 'elasticnet')},\n",
              "             verbose=3)"
            ],
            "text/html": [
              "<style>#sk-container-id-1 {color: black;}#sk-container-id-1 pre{padding: 0;}#sk-container-id-1 div.sk-toggleable {background-color: white;}#sk-container-id-1 label.sk-toggleable__label {cursor: pointer;display: block;width: 100%;margin-bottom: 0;padding: 0.3em;box-sizing: border-box;text-align: center;}#sk-container-id-1 label.sk-toggleable__label-arrow:before {content: \"▸\";float: left;margin-right: 0.25em;color: #696969;}#sk-container-id-1 label.sk-toggleable__label-arrow:hover:before {color: black;}#sk-container-id-1 div.sk-estimator:hover label.sk-toggleable__label-arrow:before {color: black;}#sk-container-id-1 div.sk-toggleable__content {max-height: 0;max-width: 0;overflow: hidden;text-align: left;background-color: #f0f8ff;}#sk-container-id-1 div.sk-toggleable__content pre {margin: 0.2em;color: black;border-radius: 0.25em;background-color: #f0f8ff;}#sk-container-id-1 input.sk-toggleable__control:checked~div.sk-toggleable__content {max-height: 200px;max-width: 100%;overflow: auto;}#sk-container-id-1 input.sk-toggleable__control:checked~label.sk-toggleable__label-arrow:before {content: \"▾\";}#sk-container-id-1 div.sk-estimator input.sk-toggleable__control:checked~label.sk-toggleable__label {background-color: #d4ebff;}#sk-container-id-1 div.sk-label input.sk-toggleable__control:checked~label.sk-toggleable__label {background-color: #d4ebff;}#sk-container-id-1 input.sk-hidden--visually {border: 0;clip: rect(1px 1px 1px 1px);clip: rect(1px, 1px, 1px, 1px);height: 1px;margin: -1px;overflow: hidden;padding: 0;position: absolute;width: 1px;}#sk-container-id-1 div.sk-estimator {font-family: monospace;background-color: #f0f8ff;border: 1px dotted black;border-radius: 0.25em;box-sizing: border-box;margin-bottom: 0.5em;}#sk-container-id-1 div.sk-estimator:hover {background-color: #d4ebff;}#sk-container-id-1 div.sk-parallel-item::after {content: \"\";width: 100%;border-bottom: 1px solid gray;flex-grow: 1;}#sk-container-id-1 div.sk-label:hover label.sk-toggleable__label {background-color: #d4ebff;}#sk-container-id-1 div.sk-serial::before {content: \"\";position: absolute;border-left: 1px solid gray;box-sizing: border-box;top: 0;bottom: 0;left: 50%;z-index: 0;}#sk-container-id-1 div.sk-serial {display: flex;flex-direction: column;align-items: center;background-color: white;padding-right: 0.2em;padding-left: 0.2em;position: relative;}#sk-container-id-1 div.sk-item {position: relative;z-index: 1;}#sk-container-id-1 div.sk-parallel {display: flex;align-items: stretch;justify-content: center;background-color: white;position: relative;}#sk-container-id-1 div.sk-item::before, #sk-container-id-1 div.sk-parallel-item::before {content: \"\";position: absolute;border-left: 1px solid gray;box-sizing: border-box;top: 0;bottom: 0;left: 50%;z-index: -1;}#sk-container-id-1 div.sk-parallel-item {display: flex;flex-direction: column;z-index: 1;position: relative;background-color: white;}#sk-container-id-1 div.sk-parallel-item:first-child::after {align-self: flex-end;width: 50%;}#sk-container-id-1 div.sk-parallel-item:last-child::after {align-self: flex-start;width: 50%;}#sk-container-id-1 div.sk-parallel-item:only-child::after {width: 0;}#sk-container-id-1 div.sk-dashed-wrapped {border: 1px dashed gray;margin: 0 0.4em 0.5em 0.4em;box-sizing: border-box;padding-bottom: 0.4em;background-color: white;}#sk-container-id-1 div.sk-label label {font-family: monospace;font-weight: bold;display: inline-block;line-height: 1.2em;}#sk-container-id-1 div.sk-label-container {text-align: center;}#sk-container-id-1 div.sk-container {/* jupyter's `normalize.less` sets `[hidden] { display: none; }` but bootstrap.min.css set `[hidden] { display: none !important; }` so we also need the `!important` here to be able to override the default hidden behavior on the sphinx rendered scikit-learn.org. See: https://github.com/scikit-learn/scikit-learn/issues/21755 */display: inline-block !important;position: relative;}#sk-container-id-1 div.sk-text-repr-fallback {display: none;}</style><div id=\"sk-container-id-1\" class=\"sk-top-container\"><div class=\"sk-text-repr-fallback\"><pre>GridSearchCV(cv=5, estimator=LogisticRegression(),\n",
              "             param_grid={&#x27;C&#x27;: [1, 2, 3, 4, 5, 10, 20, 30, 40],\n",
              "                         &#x27;penalty&#x27;: (&#x27;l1&#x27;, &#x27;l2&#x27;, &#x27;elasticnet&#x27;)},\n",
              "             verbose=3)</pre><b>In a Jupyter environment, please rerun this cell to show the HTML representation or trust the notebook. <br />On GitHub, the HTML representation is unable to render, please try loading this page with nbviewer.org.</b></div><div class=\"sk-container\" hidden><div class=\"sk-item sk-dashed-wrapped\"><div class=\"sk-label-container\"><div class=\"sk-label sk-toggleable\"><input class=\"sk-toggleable__control sk-hidden--visually\" id=\"sk-estimator-id-1\" type=\"checkbox\" ><label for=\"sk-estimator-id-1\" class=\"sk-toggleable__label sk-toggleable__label-arrow\">GridSearchCV</label><div class=\"sk-toggleable__content\"><pre>GridSearchCV(cv=5, estimator=LogisticRegression(),\n",
              "             param_grid={&#x27;C&#x27;: [1, 2, 3, 4, 5, 10, 20, 30, 40],\n",
              "                         &#x27;penalty&#x27;: (&#x27;l1&#x27;, &#x27;l2&#x27;, &#x27;elasticnet&#x27;)},\n",
              "             verbose=3)</pre></div></div></div><div class=\"sk-parallel\"><div class=\"sk-parallel-item\"><div class=\"sk-item\"><div class=\"sk-label-container\"><div class=\"sk-label sk-toggleable\"><input class=\"sk-toggleable__control sk-hidden--visually\" id=\"sk-estimator-id-2\" type=\"checkbox\" ><label for=\"sk-estimator-id-2\" class=\"sk-toggleable__label sk-toggleable__label-arrow\">estimator: LogisticRegression</label><div class=\"sk-toggleable__content\"><pre>LogisticRegression()</pre></div></div></div><div class=\"sk-serial\"><div class=\"sk-item\"><div class=\"sk-estimator sk-toggleable\"><input class=\"sk-toggleable__control sk-hidden--visually\" id=\"sk-estimator-id-3\" type=\"checkbox\" ><label for=\"sk-estimator-id-3\" class=\"sk-toggleable__label sk-toggleable__label-arrow\">LogisticRegression</label><div class=\"sk-toggleable__content\"><pre>LogisticRegression()</pre></div></div></div></div></div></div></div></div></div></div>"
            ]
          },
          "metadata": {},
          "execution_count": 9
        }
      ]
    },
    {
      "cell_type": "code",
      "source": [
        "clf.fit(x_train,y_train)"
      ],
      "metadata": {
        "colab": {
          "base_uri": "https://localhost:8080/",
          "height": 1000
        },
        "id": "BetSj5wNBdnv",
        "outputId": "62085341-6963-4d8b-ffb1-5c434d97c9e3"
      },
      "execution_count": null,
      "outputs": [
        {
          "output_type": "stream",
          "name": "stdout",
          "text": [
            "Fitting 5 folds for each of 27 candidates, totalling 135 fits\n",
            "[CV 1/5] END .....................C=1, penalty=l1;, score=nan total time=   0.0s\n",
            "[CV 2/5] END .....................C=1, penalty=l1;, score=nan total time=   0.0s\n",
            "[CV 3/5] END .....................C=1, penalty=l1;, score=nan total time=   0.0s\n",
            "[CV 4/5] END .....................C=1, penalty=l1;, score=nan total time=   0.0s\n",
            "[CV 5/5] END .....................C=1, penalty=l1;, score=nan total time=   0.0s\n",
            "[CV 1/5] END ...................C=1, penalty=l2;, score=0.856 total time=   0.0s\n",
            "[CV 2/5] END ...................C=1, penalty=l2;, score=0.762 total time=   0.0s\n",
            "[CV 3/5] END ...................C=1, penalty=l2;, score=0.806 total time=   0.0s\n",
            "[CV 4/5] END ...................C=1, penalty=l2;, score=0.806 total time=   0.0s\n",
            "[CV 5/5] END ...................C=1, penalty=l2;, score=0.800 total time=   0.0s\n",
            "[CV 1/5] END .............C=1, penalty=elasticnet;, score=nan total time=   0.0s\n",
            "[CV 2/5] END .............C=1, penalty=elasticnet;, score=nan total time=   0.0s\n",
            "[CV 3/5] END .............C=1, penalty=elasticnet;, score=nan total time=   0.0s\n",
            "[CV 4/5] END .............C=1, penalty=elasticnet;, score=nan total time=   0.0s\n",
            "[CV 5/5] END .............C=1, penalty=elasticnet;, score=nan total time=   0.0s\n",
            "[CV 1/5] END .....................C=2, penalty=l1;, score=nan total time=   0.0s\n",
            "[CV 2/5] END .....................C=2, penalty=l1;, score=nan total time=   0.0s\n",
            "[CV 3/5] END .....................C=2, penalty=l1;, score=nan total time=   0.0s\n",
            "[CV 4/5] END .....................C=2, penalty=l1;, score=nan total time=   0.0s\n",
            "[CV 5/5] END .....................C=2, penalty=l1;, score=nan total time=   0.0s\n",
            "[CV 1/5] END ...................C=2, penalty=l2;, score=0.856 total time=   0.0s\n",
            "[CV 2/5] END ...................C=2, penalty=l2;, score=0.762 total time=   0.0s\n",
            "[CV 3/5] END ...................C=2, penalty=l2;, score=0.806 total time=   0.0s\n",
            "[CV 4/5] END ...................C=2, penalty=l2;, score=0.806 total time=   0.0s\n",
            "[CV 5/5] END ...................C=2, penalty=l2;, score=0.800 total time=   0.0s\n",
            "[CV 1/5] END .............C=2, penalty=elasticnet;, score=nan total time=   0.0s\n",
            "[CV 2/5] END .............C=2, penalty=elasticnet;, score=nan total time=   0.0s\n",
            "[CV 3/5] END .............C=2, penalty=elasticnet;, score=nan total time=   0.0s\n",
            "[CV 4/5] END .............C=2, penalty=elasticnet;, score=nan total time=   0.0s\n",
            "[CV 5/5] END .............C=2, penalty=elasticnet;, score=nan total time=   0.0s\n",
            "[CV 1/5] END .....................C=3, penalty=l1;, score=nan total time=   0.0s\n",
            "[CV 2/5] END .....................C=3, penalty=l1;, score=nan total time=   0.0s\n",
            "[CV 3/5] END .....................C=3, penalty=l1;, score=nan total time=   0.0s\n",
            "[CV 4/5] END .....................C=3, penalty=l1;, score=nan total time=   0.0s\n",
            "[CV 5/5] END .....................C=3, penalty=l1;, score=nan total time=   0.0s\n",
            "[CV 1/5] END ...................C=3, penalty=l2;, score=0.856 total time=   0.0s\n",
            "[CV 2/5] END ...................C=3, penalty=l2;, score=0.762 total time=   0.0s\n",
            "[CV 3/5] END ...................C=3, penalty=l2;, score=0.806 total time=   0.0s\n",
            "[CV 4/5] END ...................C=3, penalty=l2;, score=0.806 total time=   0.0s\n",
            "[CV 5/5] END ...................C=3, penalty=l2;, score=0.800 total time=   0.0s\n",
            "[CV 1/5] END .............C=3, penalty=elasticnet;, score=nan total time=   0.0s\n",
            "[CV 2/5] END .............C=3, penalty=elasticnet;, score=nan total time=   0.0s\n",
            "[CV 3/5] END .............C=3, penalty=elasticnet;, score=nan total time=   0.0s\n",
            "[CV 4/5] END .............C=3, penalty=elasticnet;, score=nan total time=   0.0s\n",
            "[CV 5/5] END .............C=3, penalty=elasticnet;, score=nan total time=   0.0s\n",
            "[CV 1/5] END .....................C=4, penalty=l1;, score=nan total time=   0.0s\n",
            "[CV 2/5] END .....................C=4, penalty=l1;, score=nan total time=   0.0s\n",
            "[CV 3/5] END .....................C=4, penalty=l1;, score=nan total time=   0.0s\n",
            "[CV 4/5] END .....................C=4, penalty=l1;, score=nan total time=   0.0s\n",
            "[CV 5/5] END .....................C=4, penalty=l1;, score=nan total time=   0.0s\n",
            "[CV 1/5] END ...................C=4, penalty=l2;, score=0.856 total time=   0.0s\n",
            "[CV 2/5] END ...................C=4, penalty=l2;, score=0.762 total time=   0.0s\n",
            "[CV 3/5] END ...................C=4, penalty=l2;, score=0.806 total time=   0.0s\n",
            "[CV 4/5] END ...................C=4, penalty=l2;, score=0.806 total time=   0.0s\n",
            "[CV 5/5] END ...................C=4, penalty=l2;, score=0.800 total time=   0.0s\n",
            "[CV 1/5] END .............C=4, penalty=elasticnet;, score=nan total time=   0.0s\n",
            "[CV 2/5] END .............C=4, penalty=elasticnet;, score=nan total time=   0.0s\n",
            "[CV 3/5] END .............C=4, penalty=elasticnet;, score=nan total time=   0.0s\n",
            "[CV 4/5] END .............C=4, penalty=elasticnet;, score=nan total time=   0.0s\n",
            "[CV 5/5] END .............C=4, penalty=elasticnet;, score=nan total time=   0.0s\n",
            "[CV 1/5] END .....................C=5, penalty=l1;, score=nan total time=   0.0s\n",
            "[CV 2/5] END .....................C=5, penalty=l1;, score=nan total time=   0.0s\n",
            "[CV 3/5] END .....................C=5, penalty=l1;, score=nan total time=   0.0s\n",
            "[CV 4/5] END .....................C=5, penalty=l1;, score=nan total time=   0.0s\n",
            "[CV 5/5] END .....................C=5, penalty=l1;, score=nan total time=   0.0s\n",
            "[CV 1/5] END ...................C=5, penalty=l2;, score=0.856 total time=   0.0s\n",
            "[CV 2/5] END ...................C=5, penalty=l2;, score=0.762 total time=   0.0s\n",
            "[CV 3/5] END ...................C=5, penalty=l2;, score=0.806 total time=   0.0s\n",
            "[CV 4/5] END ...................C=5, penalty=l2;, score=0.806 total time=   0.0s\n",
            "[CV 5/5] END ...................C=5, penalty=l2;, score=0.800 total time=   0.0s\n",
            "[CV 1/5] END .............C=5, penalty=elasticnet;, score=nan total time=   0.0s\n",
            "[CV 2/5] END .............C=5, penalty=elasticnet;, score=nan total time=   0.0s\n",
            "[CV 3/5] END .............C=5, penalty=elasticnet;, score=nan total time=   0.0s\n",
            "[CV 4/5] END .............C=5, penalty=elasticnet;, score=nan total time=   0.0s\n",
            "[CV 5/5] END .............C=5, penalty=elasticnet;, score=nan total time=   0.0s\n",
            "[CV 1/5] END ....................C=10, penalty=l1;, score=nan total time=   0.0s\n",
            "[CV 2/5] END ....................C=10, penalty=l1;, score=nan total time=   0.0s\n",
            "[CV 3/5] END ....................C=10, penalty=l1;, score=nan total time=   0.0s\n",
            "[CV 4/5] END ....................C=10, penalty=l1;, score=nan total time=   0.0s\n",
            "[CV 5/5] END ....................C=10, penalty=l1;, score=nan total time=   0.0s\n",
            "[CV 1/5] END ..................C=10, penalty=l2;, score=0.856 total time=   0.0s\n",
            "[CV 2/5] END ..................C=10, penalty=l2;, score=0.762 total time=   0.0s\n",
            "[CV 3/5] END ..................C=10, penalty=l2;, score=0.806 total time=   0.0s\n",
            "[CV 4/5] END ..................C=10, penalty=l2;, score=0.806 total time=   0.0s\n",
            "[CV 5/5] END ..................C=10, penalty=l2;, score=0.800 total time=   0.0s\n",
            "[CV 1/5] END ............C=10, penalty=elasticnet;, score=nan total time=   0.0s\n",
            "[CV 2/5] END ............C=10, penalty=elasticnet;, score=nan total time=   0.0s\n",
            "[CV 3/5] END ............C=10, penalty=elasticnet;, score=nan total time=   0.0s\n",
            "[CV 4/5] END ............C=10, penalty=elasticnet;, score=nan total time=   0.0s\n",
            "[CV 5/5] END ............C=10, penalty=elasticnet;, score=nan total time=   0.0s\n",
            "[CV 1/5] END ....................C=20, penalty=l1;, score=nan total time=   0.0s\n",
            "[CV 2/5] END ....................C=20, penalty=l1;, score=nan total time=   0.0s\n",
            "[CV 3/5] END ....................C=20, penalty=l1;, score=nan total time=   0.0s\n",
            "[CV 4/5] END ....................C=20, penalty=l1;, score=nan total time=   0.0s\n",
            "[CV 5/5] END ....................C=20, penalty=l1;, score=nan total time=   0.0s\n",
            "[CV 1/5] END ..................C=20, penalty=l2;, score=0.856 total time=   0.0s\n",
            "[CV 2/5] END ..................C=20, penalty=l2;, score=0.762 total time=   0.0s\n",
            "[CV 3/5] END ..................C=20, penalty=l2;, score=0.806 total time=   0.0s\n",
            "[CV 4/5] END ..................C=20, penalty=l2;, score=0.806 total time=   0.0s\n",
            "[CV 5/5] END ..................C=20, penalty=l2;, score=0.800 total time=   0.0s\n",
            "[CV 1/5] END ............C=20, penalty=elasticnet;, score=nan total time=   0.0s\n",
            "[CV 2/5] END ............C=20, penalty=elasticnet;, score=nan total time=   0.0s\n",
            "[CV 3/5] END ............C=20, penalty=elasticnet;, score=nan total time=   0.0s\n",
            "[CV 4/5] END ............C=20, penalty=elasticnet;, score=nan total time=   0.0s\n",
            "[CV 5/5] END ............C=20, penalty=elasticnet;, score=nan total time=   0.0s\n",
            "[CV 1/5] END ....................C=30, penalty=l1;, score=nan total time=   0.0s\n",
            "[CV 2/5] END ....................C=30, penalty=l1;, score=nan total time=   0.0s\n",
            "[CV 3/5] END ....................C=30, penalty=l1;, score=nan total time=   0.0s\n",
            "[CV 4/5] END ....................C=30, penalty=l1;, score=nan total time=   0.0s\n",
            "[CV 5/5] END ....................C=30, penalty=l1;, score=nan total time=   0.0s\n",
            "[CV 1/5] END ..................C=30, penalty=l2;, score=0.856 total time=   0.0s\n",
            "[CV 2/5] END ..................C=30, penalty=l2;, score=0.762 total time=   0.0s\n",
            "[CV 3/5] END ..................C=30, penalty=l2;, score=0.806 total time=   0.0s\n",
            "[CV 4/5] END ..................C=30, penalty=l2;, score=0.806 total time=   0.0s\n",
            "[CV 5/5] END ..................C=30, penalty=l2;, score=0.800 total time=   0.0s\n",
            "[CV 1/5] END ............C=30, penalty=elasticnet;, score=nan total time=   0.0s\n",
            "[CV 2/5] END ............C=30, penalty=elasticnet;, score=nan total time=   0.0s\n",
            "[CV 3/5] END ............C=30, penalty=elasticnet;, score=nan total time=   0.0s\n",
            "[CV 4/5] END ............C=30, penalty=elasticnet;, score=nan total time=   0.0s\n",
            "[CV 5/5] END ............C=30, penalty=elasticnet;, score=nan total time=   0.0s\n",
            "[CV 1/5] END ....................C=40, penalty=l1;, score=nan total time=   0.0s\n",
            "[CV 2/5] END ....................C=40, penalty=l1;, score=nan total time=   0.0s\n",
            "[CV 3/5] END ....................C=40, penalty=l1;, score=nan total time=   0.0s\n",
            "[CV 4/5] END ....................C=40, penalty=l1;, score=nan total time=   0.0s\n",
            "[CV 5/5] END ....................C=40, penalty=l1;, score=nan total time=   0.0s\n",
            "[CV 1/5] END ..................C=40, penalty=l2;, score=0.856 total time=   0.0s\n",
            "[CV 2/5] END ..................C=40, penalty=l2;, score=0.762 total time=   0.0s\n",
            "[CV 3/5] END ..................C=40, penalty=l2;, score=0.806 total time=   0.0s\n",
            "[CV 4/5] END ..................C=40, penalty=l2;, score=0.806 total time=   0.0s\n",
            "[CV 5/5] END ..................C=40, penalty=l2;, score=0.800 total time=   0.0s\n",
            "[CV 1/5] END ............C=40, penalty=elasticnet;, score=nan total time=   0.0s\n",
            "[CV 2/5] END ............C=40, penalty=elasticnet;, score=nan total time=   0.0s\n",
            "[CV 3/5] END ............C=40, penalty=elasticnet;, score=nan total time=   0.0s\n",
            "[CV 4/5] END ............C=40, penalty=elasticnet;, score=nan total time=   0.0s\n",
            "[CV 5/5] END ............C=40, penalty=elasticnet;, score=nan total time=   0.0s\n"
          ]
        },
        {
          "output_type": "execute_result",
          "data": {
            "text/plain": [
              "GridSearchCV(cv=5, estimator=LogisticRegression(),\n",
              "             param_grid={'C': [1, 2, 3, 4, 5, 10, 20, 30, 40],\n",
              "                         'penalty': ('l1', 'l2', 'elasticnet')},\n",
              "             verbose=3)"
            ],
            "text/html": [
              "<style>#sk-container-id-3 {color: black;}#sk-container-id-3 pre{padding: 0;}#sk-container-id-3 div.sk-toggleable {background-color: white;}#sk-container-id-3 label.sk-toggleable__label {cursor: pointer;display: block;width: 100%;margin-bottom: 0;padding: 0.3em;box-sizing: border-box;text-align: center;}#sk-container-id-3 label.sk-toggleable__label-arrow:before {content: \"▸\";float: left;margin-right: 0.25em;color: #696969;}#sk-container-id-3 label.sk-toggleable__label-arrow:hover:before {color: black;}#sk-container-id-3 div.sk-estimator:hover label.sk-toggleable__label-arrow:before {color: black;}#sk-container-id-3 div.sk-toggleable__content {max-height: 0;max-width: 0;overflow: hidden;text-align: left;background-color: #f0f8ff;}#sk-container-id-3 div.sk-toggleable__content pre {margin: 0.2em;color: black;border-radius: 0.25em;background-color: #f0f8ff;}#sk-container-id-3 input.sk-toggleable__control:checked~div.sk-toggleable__content {max-height: 200px;max-width: 100%;overflow: auto;}#sk-container-id-3 input.sk-toggleable__control:checked~label.sk-toggleable__label-arrow:before {content: \"▾\";}#sk-container-id-3 div.sk-estimator input.sk-toggleable__control:checked~label.sk-toggleable__label {background-color: #d4ebff;}#sk-container-id-3 div.sk-label input.sk-toggleable__control:checked~label.sk-toggleable__label {background-color: #d4ebff;}#sk-container-id-3 input.sk-hidden--visually {border: 0;clip: rect(1px 1px 1px 1px);clip: rect(1px, 1px, 1px, 1px);height: 1px;margin: -1px;overflow: hidden;padding: 0;position: absolute;width: 1px;}#sk-container-id-3 div.sk-estimator {font-family: monospace;background-color: #f0f8ff;border: 1px dotted black;border-radius: 0.25em;box-sizing: border-box;margin-bottom: 0.5em;}#sk-container-id-3 div.sk-estimator:hover {background-color: #d4ebff;}#sk-container-id-3 div.sk-parallel-item::after {content: \"\";width: 100%;border-bottom: 1px solid gray;flex-grow: 1;}#sk-container-id-3 div.sk-label:hover label.sk-toggleable__label {background-color: #d4ebff;}#sk-container-id-3 div.sk-serial::before {content: \"\";position: absolute;border-left: 1px solid gray;box-sizing: border-box;top: 0;bottom: 0;left: 50%;z-index: 0;}#sk-container-id-3 div.sk-serial {display: flex;flex-direction: column;align-items: center;background-color: white;padding-right: 0.2em;padding-left: 0.2em;position: relative;}#sk-container-id-3 div.sk-item {position: relative;z-index: 1;}#sk-container-id-3 div.sk-parallel {display: flex;align-items: stretch;justify-content: center;background-color: white;position: relative;}#sk-container-id-3 div.sk-item::before, #sk-container-id-3 div.sk-parallel-item::before {content: \"\";position: absolute;border-left: 1px solid gray;box-sizing: border-box;top: 0;bottom: 0;left: 50%;z-index: -1;}#sk-container-id-3 div.sk-parallel-item {display: flex;flex-direction: column;z-index: 1;position: relative;background-color: white;}#sk-container-id-3 div.sk-parallel-item:first-child::after {align-self: flex-end;width: 50%;}#sk-container-id-3 div.sk-parallel-item:last-child::after {align-self: flex-start;width: 50%;}#sk-container-id-3 div.sk-parallel-item:only-child::after {width: 0;}#sk-container-id-3 div.sk-dashed-wrapped {border: 1px dashed gray;margin: 0 0.4em 0.5em 0.4em;box-sizing: border-box;padding-bottom: 0.4em;background-color: white;}#sk-container-id-3 div.sk-label label {font-family: monospace;font-weight: bold;display: inline-block;line-height: 1.2em;}#sk-container-id-3 div.sk-label-container {text-align: center;}#sk-container-id-3 div.sk-container {/* jupyter's `normalize.less` sets `[hidden] { display: none; }` but bootstrap.min.css set `[hidden] { display: none !important; }` so we also need the `!important` here to be able to override the default hidden behavior on the sphinx rendered scikit-learn.org. See: https://github.com/scikit-learn/scikit-learn/issues/21755 */display: inline-block !important;position: relative;}#sk-container-id-3 div.sk-text-repr-fallback {display: none;}</style><div id=\"sk-container-id-3\" class=\"sk-top-container\"><div class=\"sk-text-repr-fallback\"><pre>GridSearchCV(cv=5, estimator=LogisticRegression(),\n",
              "             param_grid={&#x27;C&#x27;: [1, 2, 3, 4, 5, 10, 20, 30, 40],\n",
              "                         &#x27;penalty&#x27;: (&#x27;l1&#x27;, &#x27;l2&#x27;, &#x27;elasticnet&#x27;)},\n",
              "             verbose=3)</pre><b>In a Jupyter environment, please rerun this cell to show the HTML representation or trust the notebook. <br />On GitHub, the HTML representation is unable to render, please try loading this page with nbviewer.org.</b></div><div class=\"sk-container\" hidden><div class=\"sk-item sk-dashed-wrapped\"><div class=\"sk-label-container\"><div class=\"sk-label sk-toggleable\"><input class=\"sk-toggleable__control sk-hidden--visually\" id=\"sk-estimator-id-7\" type=\"checkbox\" ><label for=\"sk-estimator-id-7\" class=\"sk-toggleable__label sk-toggleable__label-arrow\">GridSearchCV</label><div class=\"sk-toggleable__content\"><pre>GridSearchCV(cv=5, estimator=LogisticRegression(),\n",
              "             param_grid={&#x27;C&#x27;: [1, 2, 3, 4, 5, 10, 20, 30, 40],\n",
              "                         &#x27;penalty&#x27;: (&#x27;l1&#x27;, &#x27;l2&#x27;, &#x27;elasticnet&#x27;)},\n",
              "             verbose=3)</pre></div></div></div><div class=\"sk-parallel\"><div class=\"sk-parallel-item\"><div class=\"sk-item\"><div class=\"sk-label-container\"><div class=\"sk-label sk-toggleable\"><input class=\"sk-toggleable__control sk-hidden--visually\" id=\"sk-estimator-id-8\" type=\"checkbox\" ><label for=\"sk-estimator-id-8\" class=\"sk-toggleable__label sk-toggleable__label-arrow\">estimator: LogisticRegression</label><div class=\"sk-toggleable__content\"><pre>LogisticRegression()</pre></div></div></div><div class=\"sk-serial\"><div class=\"sk-item\"><div class=\"sk-estimator sk-toggleable\"><input class=\"sk-toggleable__control sk-hidden--visually\" id=\"sk-estimator-id-9\" type=\"checkbox\" ><label for=\"sk-estimator-id-9\" class=\"sk-toggleable__label sk-toggleable__label-arrow\">LogisticRegression</label><div class=\"sk-toggleable__content\"><pre>LogisticRegression()</pre></div></div></div></div></div></div></div></div></div></div>"
            ]
          },
          "metadata": {},
          "execution_count": 12
        }
      ]
    },
    {
      "cell_type": "code",
      "source": [
        "clf.best_score_"
      ],
      "metadata": {
        "colab": {
          "base_uri": "https://localhost:8080/"
        },
        "id": "xs-KX-FsBiQY",
        "outputId": "8aaedd06-6e51-4b88-e8d7-476b9dfc1d21"
      },
      "execution_count": null,
      "outputs": [
        {
          "output_type": "execute_result",
          "data": {
            "text/plain": [
              "0.80625"
            ]
          },
          "metadata": {},
          "execution_count": 13
        }
      ]
    },
    {
      "cell_type": "code",
      "source": [
        "clf.best_params_"
      ],
      "metadata": {
        "colab": {
          "base_uri": "https://localhost:8080/"
        },
        "id": "FH-o-EKECTIj",
        "outputId": "87e78a5f-b952-4447-ebfa-77bcc814544c"
      },
      "execution_count": null,
      "outputs": [
        {
          "output_type": "execute_result",
          "data": {
            "text/plain": [
              "{'C': 1, 'penalty': 'l2'}"
            ]
          },
          "metadata": {},
          "execution_count": 14
        }
      ]
    },
    {
      "cell_type": "code",
      "source": [
        "LogisticRegression(C=1,penalty='l2')"
      ],
      "metadata": {
        "colab": {
          "base_uri": "https://localhost:8080/",
          "height": 74
        },
        "id": "twk736RTCWVr",
        "outputId": "552f244c-c926-42cd-af78-b9f14e779343"
      },
      "execution_count": null,
      "outputs": [
        {
          "output_type": "execute_result",
          "data": {
            "text/plain": [
              "LogisticRegression(C=1)"
            ],
            "text/html": [
              "<style>#sk-container-id-4 {color: black;}#sk-container-id-4 pre{padding: 0;}#sk-container-id-4 div.sk-toggleable {background-color: white;}#sk-container-id-4 label.sk-toggleable__label {cursor: pointer;display: block;width: 100%;margin-bottom: 0;padding: 0.3em;box-sizing: border-box;text-align: center;}#sk-container-id-4 label.sk-toggleable__label-arrow:before {content: \"▸\";float: left;margin-right: 0.25em;color: #696969;}#sk-container-id-4 label.sk-toggleable__label-arrow:hover:before {color: black;}#sk-container-id-4 div.sk-estimator:hover label.sk-toggleable__label-arrow:before {color: black;}#sk-container-id-4 div.sk-toggleable__content {max-height: 0;max-width: 0;overflow: hidden;text-align: left;background-color: #f0f8ff;}#sk-container-id-4 div.sk-toggleable__content pre {margin: 0.2em;color: black;border-radius: 0.25em;background-color: #f0f8ff;}#sk-container-id-4 input.sk-toggleable__control:checked~div.sk-toggleable__content {max-height: 200px;max-width: 100%;overflow: auto;}#sk-container-id-4 input.sk-toggleable__control:checked~label.sk-toggleable__label-arrow:before {content: \"▾\";}#sk-container-id-4 div.sk-estimator input.sk-toggleable__control:checked~label.sk-toggleable__label {background-color: #d4ebff;}#sk-container-id-4 div.sk-label input.sk-toggleable__control:checked~label.sk-toggleable__label {background-color: #d4ebff;}#sk-container-id-4 input.sk-hidden--visually {border: 0;clip: rect(1px 1px 1px 1px);clip: rect(1px, 1px, 1px, 1px);height: 1px;margin: -1px;overflow: hidden;padding: 0;position: absolute;width: 1px;}#sk-container-id-4 div.sk-estimator {font-family: monospace;background-color: #f0f8ff;border: 1px dotted black;border-radius: 0.25em;box-sizing: border-box;margin-bottom: 0.5em;}#sk-container-id-4 div.sk-estimator:hover {background-color: #d4ebff;}#sk-container-id-4 div.sk-parallel-item::after {content: \"\";width: 100%;border-bottom: 1px solid gray;flex-grow: 1;}#sk-container-id-4 div.sk-label:hover label.sk-toggleable__label {background-color: #d4ebff;}#sk-container-id-4 div.sk-serial::before {content: \"\";position: absolute;border-left: 1px solid gray;box-sizing: border-box;top: 0;bottom: 0;left: 50%;z-index: 0;}#sk-container-id-4 div.sk-serial {display: flex;flex-direction: column;align-items: center;background-color: white;padding-right: 0.2em;padding-left: 0.2em;position: relative;}#sk-container-id-4 div.sk-item {position: relative;z-index: 1;}#sk-container-id-4 div.sk-parallel {display: flex;align-items: stretch;justify-content: center;background-color: white;position: relative;}#sk-container-id-4 div.sk-item::before, #sk-container-id-4 div.sk-parallel-item::before {content: \"\";position: absolute;border-left: 1px solid gray;box-sizing: border-box;top: 0;bottom: 0;left: 50%;z-index: -1;}#sk-container-id-4 div.sk-parallel-item {display: flex;flex-direction: column;z-index: 1;position: relative;background-color: white;}#sk-container-id-4 div.sk-parallel-item:first-child::after {align-self: flex-end;width: 50%;}#sk-container-id-4 div.sk-parallel-item:last-child::after {align-self: flex-start;width: 50%;}#sk-container-id-4 div.sk-parallel-item:only-child::after {width: 0;}#sk-container-id-4 div.sk-dashed-wrapped {border: 1px dashed gray;margin: 0 0.4em 0.5em 0.4em;box-sizing: border-box;padding-bottom: 0.4em;background-color: white;}#sk-container-id-4 div.sk-label label {font-family: monospace;font-weight: bold;display: inline-block;line-height: 1.2em;}#sk-container-id-4 div.sk-label-container {text-align: center;}#sk-container-id-4 div.sk-container {/* jupyter's `normalize.less` sets `[hidden] { display: none; }` but bootstrap.min.css set `[hidden] { display: none !important; }` so we also need the `!important` here to be able to override the default hidden behavior on the sphinx rendered scikit-learn.org. See: https://github.com/scikit-learn/scikit-learn/issues/21755 */display: inline-block !important;position: relative;}#sk-container-id-4 div.sk-text-repr-fallback {display: none;}</style><div id=\"sk-container-id-4\" class=\"sk-top-container\"><div class=\"sk-text-repr-fallback\"><pre>LogisticRegression(C=1)</pre><b>In a Jupyter environment, please rerun this cell to show the HTML representation or trust the notebook. <br />On GitHub, the HTML representation is unable to render, please try loading this page with nbviewer.org.</b></div><div class=\"sk-container\" hidden><div class=\"sk-item\"><div class=\"sk-estimator sk-toggleable\"><input class=\"sk-toggleable__control sk-hidden--visually\" id=\"sk-estimator-id-10\" type=\"checkbox\" checked><label for=\"sk-estimator-id-10\" class=\"sk-toggleable__label sk-toggleable__label-arrow\">LogisticRegression</label><div class=\"sk-toggleable__content\"><pre>LogisticRegression(C=1)</pre></div></div></div></div></div>"
            ]
          },
          "metadata": {},
          "execution_count": 16
        }
      ]
    },
    {
      "cell_type": "code",
      "source": [
        "#Randomized search cv\n",
        "from sklearn.model_selection import RandomizedSearchCV\n",
        "clf=RandomizedSearchCV(classifier,param_distributions=params,cv=5,n_iter=10,verbose=4)\n",
        "clf.fit(x_train,y_train)"
      ],
      "metadata": {
        "colab": {
          "base_uri": "https://localhost:8080/",
          "height": 1000
        },
        "id": "TnEA2oXgDHfC",
        "outputId": "fcf5e6a2-2ab6-4c04-eac6-e3065f90e418"
      },
      "execution_count": null,
      "outputs": [
        {
          "output_type": "stream",
          "name": "stdout",
          "text": [
            "Fitting 5 folds for each of 10 candidates, totalling 50 fits\n",
            "[CV 1/5] END ..................C=40, penalty=l2;, score=0.856 total time=   0.0s\n",
            "[CV 2/5] END ..................C=40, penalty=l2;, score=0.762 total time=   0.0s\n",
            "[CV 3/5] END ..................C=40, penalty=l2;, score=0.806 total time=   0.0s\n",
            "[CV 4/5] END ..................C=40, penalty=l2;, score=0.806 total time=   0.0s\n",
            "[CV 5/5] END ..................C=40, penalty=l2;, score=0.800 total time=   0.0s\n",
            "[CV 1/5] END ....................C=30, penalty=l1;, score=nan total time=   0.0s\n",
            "[CV 2/5] END ....................C=30, penalty=l1;, score=nan total time=   0.0s\n",
            "[CV 3/5] END ....................C=30, penalty=l1;, score=nan total time=   0.0s\n",
            "[CV 4/5] END ....................C=30, penalty=l1;, score=nan total time=   0.0s\n",
            "[CV 5/5] END ....................C=30, penalty=l1;, score=nan total time=   0.0s\n",
            "[CV 1/5] END ...................C=3, penalty=l2;, score=0.856 total time=   0.0s\n",
            "[CV 2/5] END ...................C=3, penalty=l2;, score=0.762 total time=   0.0s\n",
            "[CV 3/5] END ...................C=3, penalty=l2;, score=0.806 total time=   0.0s\n",
            "[CV 4/5] END ...................C=3, penalty=l2;, score=0.806 total time=   0.0s\n",
            "[CV 5/5] END ...................C=3, penalty=l2;, score=0.800 total time=   0.0s\n",
            "[CV 1/5] END .....................C=3, penalty=l1;, score=nan total time=   0.0s\n",
            "[CV 2/5] END .....................C=3, penalty=l1;, score=nan total time=   0.0s\n",
            "[CV 3/5] END .....................C=3, penalty=l1;, score=nan total time=   0.0s\n",
            "[CV 4/5] END .....................C=3, penalty=l1;, score=nan total time=   0.0s\n",
            "[CV 5/5] END .....................C=3, penalty=l1;, score=nan total time=   0.0s\n",
            "[CV 1/5] END ..................C=10, penalty=l2;, score=0.856 total time=   0.0s\n",
            "[CV 2/5] END ..................C=10, penalty=l2;, score=0.762 total time=   0.0s\n",
            "[CV 3/5] END ..................C=10, penalty=l2;, score=0.806 total time=   0.0s\n",
            "[CV 4/5] END ..................C=10, penalty=l2;, score=0.806 total time=   0.0s\n",
            "[CV 5/5] END ..................C=10, penalty=l2;, score=0.800 total time=   0.0s\n",
            "[CV 1/5] END .............C=5, penalty=elasticnet;, score=nan total time=   0.0s\n",
            "[CV 2/5] END .............C=5, penalty=elasticnet;, score=nan total time=   0.0s\n",
            "[CV 3/5] END .............C=5, penalty=elasticnet;, score=nan total time=   0.0s\n",
            "[CV 4/5] END .............C=5, penalty=elasticnet;, score=nan total time=   0.0s\n",
            "[CV 5/5] END .............C=5, penalty=elasticnet;, score=nan total time=   0.0s\n",
            "[CV 1/5] END ...................C=2, penalty=l2;, score=0.856 total time=   0.0s\n",
            "[CV 2/5] END ...................C=2, penalty=l2;, score=0.762 total time=   0.0s\n",
            "[CV 3/5] END ...................C=2, penalty=l2;, score=0.806 total time=   0.0s\n",
            "[CV 4/5] END ...................C=2, penalty=l2;, score=0.806 total time=   0.0s\n",
            "[CV 5/5] END ...................C=2, penalty=l2;, score=0.800 total time=   0.0s\n",
            "[CV 1/5] END ....................C=20, penalty=l1;, score=nan total time=   0.0s\n",
            "[CV 2/5] END ....................C=20, penalty=l1;, score=nan total time=   0.0s\n",
            "[CV 3/5] END ....................C=20, penalty=l1;, score=nan total time=   0.0s\n",
            "[CV 4/5] END ....................C=20, penalty=l1;, score=nan total time=   0.0s\n",
            "[CV 5/5] END ....................C=20, penalty=l1;, score=nan total time=   0.0s\n",
            "[CV 1/5] END ............C=40, penalty=elasticnet;, score=nan total time=   0.0s\n",
            "[CV 2/5] END ............C=40, penalty=elasticnet;, score=nan total time=   0.0s\n",
            "[CV 3/5] END ............C=40, penalty=elasticnet;, score=nan total time=   0.0s\n",
            "[CV 4/5] END ............C=40, penalty=elasticnet;, score=nan total time=   0.0s\n",
            "[CV 5/5] END ............C=40, penalty=elasticnet;, score=nan total time=   0.0s\n",
            "[CV 1/5] END ..................C=20, penalty=l2;, score=0.856 total time=   0.0s\n",
            "[CV 2/5] END ..................C=20, penalty=l2;, score=0.762 total time=   0.0s\n",
            "[CV 3/5] END ..................C=20, penalty=l2;, score=0.806 total time=   0.0s\n",
            "[CV 4/5] END ..................C=20, penalty=l2;, score=0.806 total time=   0.0s\n",
            "[CV 5/5] END ..................C=20, penalty=l2;, score=0.800 total time=   0.0s\n"
          ]
        },
        {
          "output_type": "execute_result",
          "data": {
            "text/plain": [
              "RandomizedSearchCV(cv=5, estimator=LogisticRegression(),\n",
              "                   param_distributions={'C': [1, 2, 3, 4, 5, 10, 20, 30, 40],\n",
              "                                        'penalty': ('l1', 'l2', 'elasticnet')},\n",
              "                   verbose=4)"
            ],
            "text/html": [
              "<style>#sk-container-id-6 {color: black;}#sk-container-id-6 pre{padding: 0;}#sk-container-id-6 div.sk-toggleable {background-color: white;}#sk-container-id-6 label.sk-toggleable__label {cursor: pointer;display: block;width: 100%;margin-bottom: 0;padding: 0.3em;box-sizing: border-box;text-align: center;}#sk-container-id-6 label.sk-toggleable__label-arrow:before {content: \"▸\";float: left;margin-right: 0.25em;color: #696969;}#sk-container-id-6 label.sk-toggleable__label-arrow:hover:before {color: black;}#sk-container-id-6 div.sk-estimator:hover label.sk-toggleable__label-arrow:before {color: black;}#sk-container-id-6 div.sk-toggleable__content {max-height: 0;max-width: 0;overflow: hidden;text-align: left;background-color: #f0f8ff;}#sk-container-id-6 div.sk-toggleable__content pre {margin: 0.2em;color: black;border-radius: 0.25em;background-color: #f0f8ff;}#sk-container-id-6 input.sk-toggleable__control:checked~div.sk-toggleable__content {max-height: 200px;max-width: 100%;overflow: auto;}#sk-container-id-6 input.sk-toggleable__control:checked~label.sk-toggleable__label-arrow:before {content: \"▾\";}#sk-container-id-6 div.sk-estimator input.sk-toggleable__control:checked~label.sk-toggleable__label {background-color: #d4ebff;}#sk-container-id-6 div.sk-label input.sk-toggleable__control:checked~label.sk-toggleable__label {background-color: #d4ebff;}#sk-container-id-6 input.sk-hidden--visually {border: 0;clip: rect(1px 1px 1px 1px);clip: rect(1px, 1px, 1px, 1px);height: 1px;margin: -1px;overflow: hidden;padding: 0;position: absolute;width: 1px;}#sk-container-id-6 div.sk-estimator {font-family: monospace;background-color: #f0f8ff;border: 1px dotted black;border-radius: 0.25em;box-sizing: border-box;margin-bottom: 0.5em;}#sk-container-id-6 div.sk-estimator:hover {background-color: #d4ebff;}#sk-container-id-6 div.sk-parallel-item::after {content: \"\";width: 100%;border-bottom: 1px solid gray;flex-grow: 1;}#sk-container-id-6 div.sk-label:hover label.sk-toggleable__label {background-color: #d4ebff;}#sk-container-id-6 div.sk-serial::before {content: \"\";position: absolute;border-left: 1px solid gray;box-sizing: border-box;top: 0;bottom: 0;left: 50%;z-index: 0;}#sk-container-id-6 div.sk-serial {display: flex;flex-direction: column;align-items: center;background-color: white;padding-right: 0.2em;padding-left: 0.2em;position: relative;}#sk-container-id-6 div.sk-item {position: relative;z-index: 1;}#sk-container-id-6 div.sk-parallel {display: flex;align-items: stretch;justify-content: center;background-color: white;position: relative;}#sk-container-id-6 div.sk-item::before, #sk-container-id-6 div.sk-parallel-item::before {content: \"\";position: absolute;border-left: 1px solid gray;box-sizing: border-box;top: 0;bottom: 0;left: 50%;z-index: -1;}#sk-container-id-6 div.sk-parallel-item {display: flex;flex-direction: column;z-index: 1;position: relative;background-color: white;}#sk-container-id-6 div.sk-parallel-item:first-child::after {align-self: flex-end;width: 50%;}#sk-container-id-6 div.sk-parallel-item:last-child::after {align-self: flex-start;width: 50%;}#sk-container-id-6 div.sk-parallel-item:only-child::after {width: 0;}#sk-container-id-6 div.sk-dashed-wrapped {border: 1px dashed gray;margin: 0 0.4em 0.5em 0.4em;box-sizing: border-box;padding-bottom: 0.4em;background-color: white;}#sk-container-id-6 div.sk-label label {font-family: monospace;font-weight: bold;display: inline-block;line-height: 1.2em;}#sk-container-id-6 div.sk-label-container {text-align: center;}#sk-container-id-6 div.sk-container {/* jupyter's `normalize.less` sets `[hidden] { display: none; }` but bootstrap.min.css set `[hidden] { display: none !important; }` so we also need the `!important` here to be able to override the default hidden behavior on the sphinx rendered scikit-learn.org. See: https://github.com/scikit-learn/scikit-learn/issues/21755 */display: inline-block !important;position: relative;}#sk-container-id-6 div.sk-text-repr-fallback {display: none;}</style><div id=\"sk-container-id-6\" class=\"sk-top-container\"><div class=\"sk-text-repr-fallback\"><pre>RandomizedSearchCV(cv=5, estimator=LogisticRegression(),\n",
              "                   param_distributions={&#x27;C&#x27;: [1, 2, 3, 4, 5, 10, 20, 30, 40],\n",
              "                                        &#x27;penalty&#x27;: (&#x27;l1&#x27;, &#x27;l2&#x27;, &#x27;elasticnet&#x27;)},\n",
              "                   verbose=4)</pre><b>In a Jupyter environment, please rerun this cell to show the HTML representation or trust the notebook. <br />On GitHub, the HTML representation is unable to render, please try loading this page with nbviewer.org.</b></div><div class=\"sk-container\" hidden><div class=\"sk-item sk-dashed-wrapped\"><div class=\"sk-label-container\"><div class=\"sk-label sk-toggleable\"><input class=\"sk-toggleable__control sk-hidden--visually\" id=\"sk-estimator-id-14\" type=\"checkbox\" ><label for=\"sk-estimator-id-14\" class=\"sk-toggleable__label sk-toggleable__label-arrow\">RandomizedSearchCV</label><div class=\"sk-toggleable__content\"><pre>RandomizedSearchCV(cv=5, estimator=LogisticRegression(),\n",
              "                   param_distributions={&#x27;C&#x27;: [1, 2, 3, 4, 5, 10, 20, 30, 40],\n",
              "                                        &#x27;penalty&#x27;: (&#x27;l1&#x27;, &#x27;l2&#x27;, &#x27;elasticnet&#x27;)},\n",
              "                   verbose=4)</pre></div></div></div><div class=\"sk-parallel\"><div class=\"sk-parallel-item\"><div class=\"sk-item\"><div class=\"sk-label-container\"><div class=\"sk-label sk-toggleable\"><input class=\"sk-toggleable__control sk-hidden--visually\" id=\"sk-estimator-id-15\" type=\"checkbox\" ><label for=\"sk-estimator-id-15\" class=\"sk-toggleable__label sk-toggleable__label-arrow\">estimator: LogisticRegression</label><div class=\"sk-toggleable__content\"><pre>LogisticRegression()</pre></div></div></div><div class=\"sk-serial\"><div class=\"sk-item\"><div class=\"sk-estimator sk-toggleable\"><input class=\"sk-toggleable__control sk-hidden--visually\" id=\"sk-estimator-id-16\" type=\"checkbox\" ><label for=\"sk-estimator-id-16\" class=\"sk-toggleable__label sk-toggleable__label-arrow\">LogisticRegression</label><div class=\"sk-toggleable__content\"><pre>LogisticRegression()</pre></div></div></div></div></div></div></div></div></div></div>"
            ]
          },
          "metadata": {},
          "execution_count": 19
        }
      ]
    },
    {
      "cell_type": "code",
      "source": [
        "clf.best_score_"
      ],
      "metadata": {
        "colab": {
          "base_uri": "https://localhost:8080/"
        },
        "id": "M8Z_iX3RDdsc",
        "outputId": "0fc089e5-7a8f-4d46-84ed-cd07ce2e8982"
      },
      "execution_count": null,
      "outputs": [
        {
          "output_type": "execute_result",
          "data": {
            "text/plain": [
              "0.80625"
            ]
          },
          "metadata": {},
          "execution_count": 20
        }
      ]
    },
    {
      "cell_type": "code",
      "source": [
        "clf.best_params_"
      ],
      "metadata": {
        "colab": {
          "base_uri": "https://localhost:8080/"
        },
        "id": "LOukvSSNEKJV",
        "outputId": "22f4b0eb-43d1-4f75-cc47-3286f62a93a5"
      },
      "execution_count": null,
      "outputs": [
        {
          "output_type": "execute_result",
          "data": {
            "text/plain": [
              "{'penalty': 'l2', 'C': 40}"
            ]
          },
          "metadata": {},
          "execution_count": 21
        }
      ]
    }
  ]
}